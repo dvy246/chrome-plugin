{
 "cells": [
  {
   "cell_type": "markdown",
   "id": "16701128",
   "metadata": {},
   "source": [
    "# Pre-Processing"
   ]
  },
  {
   "cell_type": "code",
   "execution_count": 37,
   "id": "f07fa2cd",
   "metadata": {},
   "outputs": [],
   "source": [
    "import pandas  as pd\n",
    "import numpy as np\n",
    "import warnings\n",
    "\n",
    "warnings.filterwarnings(\"ignore\")"
   ]
  },
  {
   "cell_type": "code",
   "execution_count": 2,
   "id": "0df03c32",
   "metadata": {},
   "outputs": [],
   "source": [
    "df=pd.read_csv('https://raw.githubusercontent.com/Himanshu-1703/reddit-sentiment-analysis/refs/heads/main/data/reddit.csv')"
   ]
  },
  {
   "cell_type": "code",
   "execution_count": 3,
   "id": "e5ffbd60",
   "metadata": {},
   "outputs": [
    {
     "data": {
      "application/vnd.microsoft.datawrangler.viewer.v0+json": {
       "columns": [
        {
         "name": "index",
         "rawType": "int64",
         "type": "integer"
        },
        {
         "name": "clean_comment",
         "rawType": "object",
         "type": "string"
        },
        {
         "name": "category",
         "rawType": "int64",
         "type": "integer"
        }
       ],
       "ref": "5d190fa1-435a-47a5-bd32-3b48531ad6d6",
       "rows": [
        [
         "0",
         " family mormon have never tried explain them they still stare puzzled from time time like some kind strange creature nonetheless they have come admire for the patience calmness equanimity acceptance and compassion have developed all the things buddhism teaches ",
         "1"
        ],
        [
         "1",
         "buddhism has very much lot compatible with christianity especially considering that sin and suffering are almost the same thing suffering caused wanting things shouldn want going about getting things the wrong way christian this would mean wanting things that don coincide with god will and wanting things that coincide but without the aid jesus buddhism could also seen proof god all mighty will and omnipotence certainly christians are lucky have one such christ there side but what about everyone else well many christians believe god grace salvation and buddhism god way showing grace upon others would also help study the things jesus said and see how buddha has made similar claims such rich man getting into heaven joke basically advocating that should rid ourselves material possessions fact distinctly remembered jesus making someone cry because that someone asked what achieve salvation and jesus replied with live like buddhist very very roughly translated also point out that buddha rarely spoke anything about god theory personally because knew well enough leave that jesus and mohamed who came later just remember conflict difference opinion but education can fun involving and enlightening easier teach something than prove right like intelligent design ",
         "1"
        ],
        [
         "2",
         "seriously don say thing first all they won get its too complex explain normal people anyway and they are dogmatic then doesn matter what you say see mechante post and for any reason you decide later life move from buddhism and that doesn suit you identity though you still get keep all the wisdom then your family will treat you like you went through weird hippy phase for while there didncha and you never hear the end pro tip don put one these your wall jpg ",
         "-1"
        ],
        [
         "3",
         "what you have learned yours and only yours what you want teach different focus the goal not the wrapping paper buddhism can passed others without word about the buddha ",
         "0"
        ],
        [
         "4",
         "for your own benefit you may want read living buddha living christ thich nhat hanh you might find any subsequent discussions with your loved ones easier you are able articulate some the parallels that exist between buddhism and christianity don surprised they react negatively for having lost you treat them with compassion and deserved understanding although they may indeed display signs being hurt your new path properly sharing with them way that may alleviate their fear something they may perceive wrong the very least alien their beliefs may help allowing them the long run accept although not necessarily agree with your decision regardless where they end you have make your own way ",
         "1"
        ],
        [
         "5",
         "you should all sit down together and watch the simpsons episode where lisa becomes buddhist simpsons season episode she little faith then discuss ",
         "-1"
        ],
        [
         "6",
         " was teens when discovered zen meditation was then undiagnosed bpd being homeschooled and just gotten 56k modem with web connection where came across link zen meditation tried for couple weeks and the change was palpable felt the most profound sense peace ever felt grades immediately started going had more energy started martial arts just huge positive change all around parents asked something was wrong fundie parents when anything changes this was where naiveté kicked foolishly told them been trying meditation and really calmed down thought they happy that found something that helped but never forget what happened next mother affected this mockingly calm breathy voice she said you can pretend calm and happy all you want but without jesus you never content was that moment that any belief had christian faith all vanished completely realized that she had probably never been happy ever have never felt profoundly sorry for someone did for her that moment ",
         "1"
        ],
        [
         "7",
         "jesus was zen meets jew ",
         "0"
        ],
        [
         "8",
         "there are two varieties christians dogmatic that dwell words and conservative that take heart the spirit the teachings hate oversimplify things but helps this understanding you are discussing with dogmatic religious people who live the letter the law will uphill battle wish you luck you are discussing with moderates exchange idea should come fairly easily comparing contrasting also discussing parallel teachings presented differently wouldn out the ordinary they may give you relevant spiritual advice even though you are not believer their religion ",
         "-1"
        ],
        [
         "9",
         "dont worry about trying explain yourself just meditate regularly and try hard you can more aware everything else will follow coming from someone who has been throught his situation welcome pms ",
         "1"
        ]
       ],
       "shape": {
        "columns": 2,
        "rows": 10
       }
      },
      "text/html": [
       "<div>\n",
       "<style scoped>\n",
       "    .dataframe tbody tr th:only-of-type {\n",
       "        vertical-align: middle;\n",
       "    }\n",
       "\n",
       "    .dataframe tbody tr th {\n",
       "        vertical-align: top;\n",
       "    }\n",
       "\n",
       "    .dataframe thead th {\n",
       "        text-align: right;\n",
       "    }\n",
       "</style>\n",
       "<table border=\"1\" class=\"dataframe\">\n",
       "  <thead>\n",
       "    <tr style=\"text-align: right;\">\n",
       "      <th></th>\n",
       "      <th>clean_comment</th>\n",
       "      <th>category</th>\n",
       "    </tr>\n",
       "  </thead>\n",
       "  <tbody>\n",
       "    <tr>\n",
       "      <th>0</th>\n",
       "      <td>family mormon have never tried explain them t...</td>\n",
       "      <td>1</td>\n",
       "    </tr>\n",
       "    <tr>\n",
       "      <th>1</th>\n",
       "      <td>buddhism has very much lot compatible with chr...</td>\n",
       "      <td>1</td>\n",
       "    </tr>\n",
       "    <tr>\n",
       "      <th>2</th>\n",
       "      <td>seriously don say thing first all they won get...</td>\n",
       "      <td>-1</td>\n",
       "    </tr>\n",
       "    <tr>\n",
       "      <th>3</th>\n",
       "      <td>what you have learned yours and only yours wha...</td>\n",
       "      <td>0</td>\n",
       "    </tr>\n",
       "    <tr>\n",
       "      <th>4</th>\n",
       "      <td>for your own benefit you may want read living ...</td>\n",
       "      <td>1</td>\n",
       "    </tr>\n",
       "    <tr>\n",
       "      <th>5</th>\n",
       "      <td>you should all sit down together and watch the...</td>\n",
       "      <td>-1</td>\n",
       "    </tr>\n",
       "    <tr>\n",
       "      <th>6</th>\n",
       "      <td>was teens when discovered zen meditation was ...</td>\n",
       "      <td>1</td>\n",
       "    </tr>\n",
       "    <tr>\n",
       "      <th>7</th>\n",
       "      <td>jesus was zen meets jew</td>\n",
       "      <td>0</td>\n",
       "    </tr>\n",
       "    <tr>\n",
       "      <th>8</th>\n",
       "      <td>there are two varieties christians dogmatic th...</td>\n",
       "      <td>-1</td>\n",
       "    </tr>\n",
       "    <tr>\n",
       "      <th>9</th>\n",
       "      <td>dont worry about trying explain yourself just ...</td>\n",
       "      <td>1</td>\n",
       "    </tr>\n",
       "  </tbody>\n",
       "</table>\n",
       "</div>"
      ],
      "text/plain": [
       "                                       clean_comment  category\n",
       "0   family mormon have never tried explain them t...         1\n",
       "1  buddhism has very much lot compatible with chr...         1\n",
       "2  seriously don say thing first all they won get...        -1\n",
       "3  what you have learned yours and only yours wha...         0\n",
       "4  for your own benefit you may want read living ...         1\n",
       "5  you should all sit down together and watch the...        -1\n",
       "6   was teens when discovered zen meditation was ...         1\n",
       "7                           jesus was zen meets jew          0\n",
       "8  there are two varieties christians dogmatic th...        -1\n",
       "9  dont worry about trying explain yourself just ...         1"
      ]
     },
     "execution_count": 3,
     "metadata": {},
     "output_type": "execute_result"
    }
   ],
   "source": [
    "df.head(10)"
   ]
  },
  {
   "cell_type": "code",
   "execution_count": 4,
   "id": "e9f1a370",
   "metadata": {},
   "outputs": [
    {
     "data": {
      "application/vnd.microsoft.datawrangler.viewer.v0+json": {
       "columns": [
        {
         "name": "index",
         "rawType": "int64",
         "type": "integer"
        },
        {
         "name": "clean_comment",
         "rawType": "object",
         "type": "string"
        },
        {
         "name": "category",
         "rawType": "int64",
         "type": "integer"
        }
       ],
       "ref": "85026c3c-b1a9-4a94-953b-2c4629eb2452",
       "rows": [
        [
         "37244",
         "jesus",
         "0"
        ],
        [
         "37245",
         "kya bhai pure saal chutiya banaya modi aur jab saal khatam hone hai sala tune bhi chutiya bana diya",
         "1"
        ],
        [
         "37246",
         " downvote karna tha par upvote hogaya ",
         "0"
        ],
        [
         "37247",
         "haha nice ",
         "1"
        ],
        [
         "37248",
         "facebook itself now working bjp’ cell ",
         "0"
        ]
       ],
       "shape": {
        "columns": 2,
        "rows": 5
       }
      },
      "text/html": [
       "<div>\n",
       "<style scoped>\n",
       "    .dataframe tbody tr th:only-of-type {\n",
       "        vertical-align: middle;\n",
       "    }\n",
       "\n",
       "    .dataframe tbody tr th {\n",
       "        vertical-align: top;\n",
       "    }\n",
       "\n",
       "    .dataframe thead th {\n",
       "        text-align: right;\n",
       "    }\n",
       "</style>\n",
       "<table border=\"1\" class=\"dataframe\">\n",
       "  <thead>\n",
       "    <tr style=\"text-align: right;\">\n",
       "      <th></th>\n",
       "      <th>clean_comment</th>\n",
       "      <th>category</th>\n",
       "    </tr>\n",
       "  </thead>\n",
       "  <tbody>\n",
       "    <tr>\n",
       "      <th>37244</th>\n",
       "      <td>jesus</td>\n",
       "      <td>0</td>\n",
       "    </tr>\n",
       "    <tr>\n",
       "      <th>37245</th>\n",
       "      <td>kya bhai pure saal chutiya banaya modi aur jab...</td>\n",
       "      <td>1</td>\n",
       "    </tr>\n",
       "    <tr>\n",
       "      <th>37246</th>\n",
       "      <td>downvote karna tha par upvote hogaya</td>\n",
       "      <td>0</td>\n",
       "    </tr>\n",
       "    <tr>\n",
       "      <th>37247</th>\n",
       "      <td>haha nice</td>\n",
       "      <td>1</td>\n",
       "    </tr>\n",
       "    <tr>\n",
       "      <th>37248</th>\n",
       "      <td>facebook itself now working bjp’ cell</td>\n",
       "      <td>0</td>\n",
       "    </tr>\n",
       "  </tbody>\n",
       "</table>\n",
       "</div>"
      ],
      "text/plain": [
       "                                           clean_comment  category\n",
       "37244                                              jesus         0\n",
       "37245  kya bhai pure saal chutiya banaya modi aur jab...         1\n",
       "37246              downvote karna tha par upvote hogaya          0\n",
       "37247                                         haha nice          1\n",
       "37248             facebook itself now working bjp’ cell          0"
      ]
     },
     "execution_count": 4,
     "metadata": {},
     "output_type": "execute_result"
    }
   ],
   "source": [
    "df.tail()"
   ]
  },
  {
   "cell_type": "code",
   "execution_count": 5,
   "id": "6b1452ca",
   "metadata": {},
   "outputs": [
    {
     "data": {
      "text/plain": [
       "(37249, 2)"
      ]
     },
     "execution_count": 5,
     "metadata": {},
     "output_type": "execute_result"
    }
   ],
   "source": [
    "df.shape"
   ]
  },
  {
   "cell_type": "code",
   "execution_count": 6,
   "id": "b5abe0f1",
   "metadata": {},
   "outputs": [
    {
     "data": {
      "application/vnd.microsoft.datawrangler.viewer.v0+json": {
       "columns": [
        {
         "name": "index",
         "rawType": "int64",
         "type": "integer"
        },
        {
         "name": "clean_comment",
         "rawType": "object",
         "type": "string"
        },
        {
         "name": "category",
         "rawType": "int64",
         "type": "integer"
        }
       ],
       "ref": "3857b00d-7860-405f-ae98-49e891f9353c",
       "rows": [
        [
         "985",
         "fuck yeah",
         "-1"
        ],
        [
         "1372",
         "fuck weddings pay for her masters degree abroad ",
         "-1"
        ],
        [
         "1686",
         "fuck aap sanity can ever expected from aaptards ",
         "-1"
        ],
        [
         "1730",
         "fucking manmohan bows front mother sonia namo front mother india spot the difference sorry draw the parallel with dolt couldn resist ",
         "-1"
        ],
        [
         "1887",
         "fuck yeah barret",
         "-1"
        ],
        [
         "1966",
         "fuck what save the last second ",
         "-1"
        ],
        [
         "2075",
         "fucking ",
         "-1"
        ],
        [
         "2449",
         "fuck religion destroys everything even subreddits ",
         "-1"
        ],
        [
         "2653",
         "fuck yeah you girl ",
         "-1"
        ],
        [
         "2685",
         "fuck yes about time not moment too soon you have sword anybody who wants scream censorship should read this ",
         "-1"
        ],
        [
         "2874",
         "fuck yeah ",
         "-1"
        ],
        [
         "3064",
         "fucking inld aage come bjp you can aise karo yaar ",
         "-1"
        ],
        [
         "3625",
         "fucking rockstar",
         "-1"
        ],
        [
         "4214",
         "fuck you goi fuck you sibal you fucking son bitch for introducing this madarchods everywhere",
         "-1"
        ],
        [
         "4342",
         "fuck that funny",
         "-1"
        ],
        [
         "4486",
         "fuck olympics developing countries massive corruption but this modi will get his way ",
         "-1"
        ],
        [
         "5297",
         "fuck off with your victim complex congress did first don fucking care they are all fascists what seriously are you denying bjp does indulge certain such activities from time time itself lets talk about that thank you ",
         "-1"
        ],
        [
         "5637",
         "fucking scam video but 16gb basic they are even pissing off now ",
         "-1"
        ],
        [
         "5959",
         "fuck man all this hindu tolerance making hard ",
         "-1"
        ],
        [
         "6511",
         "fuckin idiot ",
         "-1"
        ],
        [
         "6615",
         "fuck our mps general man where was the 200 odd opposition general when they were needed the most only voted favour congress and tmc combined could have gotten this bill introduced fucking disgusting ",
         "-1"
        ],
        [
         "6617",
         "fuck the rss should your mantra bjp small offering that terror group the baghdadi that group bhagwat will ensure that homosexuals will wiped out from this country just like hitler exterminated worse than kill them out was swastika era then germany now india watch out and save yourself you would sent for experimentation nagpur some moderators randia acts behalf rss make sure you don share personal info ",
         "-1"
        ],
        [
         "7493",
         "fucking hell always the fence but this forced comment recall getting many forwards whatsapp and posts facebook detailing gory details the union mms and sonia gandhi some them were funny and some them were just cringey attempt humour and guess which cell involved making these things have many bjp sympathisers friends and none them batted eyelid while sharing those cartoons about the then somehow making fun modi not the same and affront the nation this very disappointing ",
         "-1"
        ],
        [
         "7606",
         "fucking madarchods are now claiming that the degree forged top kek ",
         "-1"
        ],
        [
         "9169",
         "fuck thought was all just talk election jumla people here try keep reminding gave everyone ample time with the black money scheme ",
         "-1"
        ],
        [
         "9178",
         "fuck have around 50k home 500s and 1000s thanks atm allergic parents have and get changed soon also fuck again for paying 1600 cash shop just minutes back all 100s other than that good move should have heavy impact low mid level black money hoarders ",
         "-1"
        ],
        [
         "9227",
         "fucking hell not modi supporter but the balls this guy wew lad ",
         "-1"
        ],
        [
         "9296",
         "fuck just paid all cash hand have ten bucks need someone spot some money tomorrow ",
         "-1"
        ],
        [
         "9690",
         "fucking comey ",
         "-1"
        ],
        [
         "10766",
         "fuck this one should above law hope this gets enough traction that the guilty get sentenced",
         "-1"
        ],
        [
         "10943",
         "fuck fuck fuck fuck fuck fuck ",
         "-1"
        ],
        [
         "11293",
         "fuck udupi restaurants the same way the same way the same way the same way the same way the same way the same way the same way the same way the same way the same way the same way the same way the same way the same way the same way the same way the same way the same way the same way the same way the same way the same way the same way ",
         "-1"
        ],
        [
         "11527",
         "fuck yeah india and indians are cool ",
         "-1"
        ],
        [
         "12910",
         "fuck",
         "-1"
        ],
        [
         "12942",
         "fuck these assholes man can south india secede from the union uncomfortable being part country where the bigoted village idiots get constitutional authority ",
         "-1"
        ],
        [
         "13201",
         "fuck your ram temple and fuck you raja singh you and give head ram you keen ",
         "-1"
        ],
        [
         "13373",
         "fuck you ",
         "-1"
        ],
        [
         "13577",
         "fuck going out eat beef just coz this ",
         "-1"
        ],
        [
         "13603",
         "fuck you bjp happens delhi going ",
         "-1"
        ],
        [
         "13839",
         "fucking savages worry about your sanitation and caste system dont force your religion those that dont follow ",
         "-1"
        ],
        [
         "14002",
         "fuck their goons regularly terrorise city friends who have lived here all their lives who have histories this place feel threatened and unsafe all they rip the areas harmony apart and start communal tension ",
         "-1"
        ],
        [
         "14360",
         "fucking white mail assaults poor brown man",
         "-1"
        ],
        [
         "14529",
         "fuck all the religions ",
         "-1"
        ],
        [
         "14617",
         "fuck reached stage where group being physically and mentally harassed feels the need thank fellow citizens for agreeing that its fucked thing done them stay strong guys won let this country down the shitter just yet ",
         "-1"
        ],
        [
         "15576",
         "fucking tiffany",
         "-1"
        ],
        [
         "16617",
         "fuck bjp now rahulji for ",
         "-1"
        ],
        [
         "16663",
         "fuck cow belt states",
         "-1"
        ],
        [
         "16671",
         "fuck cattle highways night they are scary and seem appear out nowhere when you are cruising 100 ",
         "-1"
        ],
        [
         "16835",
         "fuck cant sing vande mataram either ",
         "-1"
        ],
        [
         "16876",
         "fucking anti national remove him from the ministry remove him from the assembly revoke his citizenship aadhaar and throw him into the arabian sea ",
         "-1"
        ]
       ],
       "shape": {
        "columns": 2,
        "rows": 111
       }
      },
      "text/html": [
       "<div>\n",
       "<style scoped>\n",
       "    .dataframe tbody tr th:only-of-type {\n",
       "        vertical-align: middle;\n",
       "    }\n",
       "\n",
       "    .dataframe tbody tr th {\n",
       "        vertical-align: top;\n",
       "    }\n",
       "\n",
       "    .dataframe thead th {\n",
       "        text-align: right;\n",
       "    }\n",
       "</style>\n",
       "<table border=\"1\" class=\"dataframe\">\n",
       "  <thead>\n",
       "    <tr style=\"text-align: right;\">\n",
       "      <th></th>\n",
       "      <th>clean_comment</th>\n",
       "      <th>category</th>\n",
       "    </tr>\n",
       "  </thead>\n",
       "  <tbody>\n",
       "    <tr>\n",
       "      <th>985</th>\n",
       "      <td>fuck yeah</td>\n",
       "      <td>-1</td>\n",
       "    </tr>\n",
       "    <tr>\n",
       "      <th>1372</th>\n",
       "      <td>fuck weddings pay for her masters degree abroad</td>\n",
       "      <td>-1</td>\n",
       "    </tr>\n",
       "    <tr>\n",
       "      <th>1686</th>\n",
       "      <td>fuck aap sanity can ever expected from aaptards</td>\n",
       "      <td>-1</td>\n",
       "    </tr>\n",
       "    <tr>\n",
       "      <th>1730</th>\n",
       "      <td>fucking manmohan bows front mother sonia namo ...</td>\n",
       "      <td>-1</td>\n",
       "    </tr>\n",
       "    <tr>\n",
       "      <th>1887</th>\n",
       "      <td>fuck yeah barret</td>\n",
       "      <td>-1</td>\n",
       "    </tr>\n",
       "    <tr>\n",
       "      <th>...</th>\n",
       "      <td>...</td>\n",
       "      <td>...</td>\n",
       "    </tr>\n",
       "    <tr>\n",
       "      <th>36407</th>\n",
       "      <td>fuck siv sena they are unnecessary like toilet...</td>\n",
       "      <td>-1</td>\n",
       "    </tr>\n",
       "    <tr>\n",
       "      <th>36408</th>\n",
       "      <td>fucker would licking modi balls was promised t...</td>\n",
       "      <td>-1</td>\n",
       "    </tr>\n",
       "    <tr>\n",
       "      <th>36477</th>\n",
       "      <td>fuck you have rahul</td>\n",
       "      <td>-1</td>\n",
       "    </tr>\n",
       "    <tr>\n",
       "      <th>36698</th>\n",
       "      <td>fuck congress and other people for saying drdo...</td>\n",
       "      <td>-1</td>\n",
       "    </tr>\n",
       "    <tr>\n",
       "      <th>37204</th>\n",
       "      <td>fuck you nearly had want rush the atm</td>\n",
       "      <td>-1</td>\n",
       "    </tr>\n",
       "  </tbody>\n",
       "</table>\n",
       "<p>111 rows × 2 columns</p>\n",
       "</div>"
      ],
      "text/plain": [
       "                                           clean_comment  category\n",
       "985                                            fuck yeah        -1\n",
       "1372    fuck weddings pay for her masters degree abroad         -1\n",
       "1686    fuck aap sanity can ever expected from aaptards         -1\n",
       "1730   fucking manmohan bows front mother sonia namo ...        -1\n",
       "1887                                    fuck yeah barret        -1\n",
       "...                                                  ...       ...\n",
       "36407  fuck siv sena they are unnecessary like toilet...        -1\n",
       "36408  fucker would licking modi balls was promised t...        -1\n",
       "36477                               fuck you have rahul         -1\n",
       "36698  fuck congress and other people for saying drdo...        -1\n",
       "37204             fuck you nearly had want rush the atm         -1\n",
       "\n",
       "[111 rows x 2 columns]"
      ]
     },
     "execution_count": 6,
     "metadata": {},
     "output_type": "execute_result"
    }
   ],
   "source": [
    "df[(df['category'] == -1) & (df['clean_comment'].str.startswith('fuck', na=False))]"
   ]
  },
  {
   "cell_type": "code",
   "execution_count": 7,
   "id": "9cc78a62",
   "metadata": {},
   "outputs": [
    {
     "data": {
      "text/plain": [
       "<bound method DataFrame.info of                                            clean_comment  category\n",
       "0       family mormon have never tried explain them t...         1\n",
       "1      buddhism has very much lot compatible with chr...         1\n",
       "2      seriously don say thing first all they won get...        -1\n",
       "3      what you have learned yours and only yours wha...         0\n",
       "4      for your own benefit you may want read living ...         1\n",
       "...                                                  ...       ...\n",
       "37244                                              jesus         0\n",
       "37245  kya bhai pure saal chutiya banaya modi aur jab...         1\n",
       "37246              downvote karna tha par upvote hogaya          0\n",
       "37247                                         haha nice          1\n",
       "37248             facebook itself now working bjp’ cell          0\n",
       "\n",
       "[37249 rows x 2 columns]>"
      ]
     },
     "execution_count": 7,
     "metadata": {},
     "output_type": "execute_result"
    }
   ],
   "source": [
    "df.info"
   ]
  },
  {
   "cell_type": "code",
   "execution_count": 8,
   "id": "fabf0cc3",
   "metadata": {},
   "outputs": [
    {
     "data": {
      "application/vnd.microsoft.datawrangler.viewer.v0+json": {
       "columns": [
        {
         "name": "index",
         "rawType": "object",
         "type": "string"
        },
        {
         "name": "category",
         "rawType": "float64",
         "type": "float"
        }
       ],
       "ref": "b50252f1-59d3-4f92-83b1-94965f4e736e",
       "rows": [
        [
         "count",
         "37249.0"
        ],
        [
         "mean",
         "0.20277054417568258"
        ],
        [
         "std",
         "0.7785149561423428"
        ],
        [
         "min",
         "-1.0"
        ],
        [
         "25%",
         "0.0"
        ],
        [
         "50%",
         "0.0"
        ],
        [
         "75%",
         "1.0"
        ],
        [
         "max",
         "1.0"
        ]
       ],
       "shape": {
        "columns": 1,
        "rows": 8
       }
      },
      "text/html": [
       "<div>\n",
       "<style scoped>\n",
       "    .dataframe tbody tr th:only-of-type {\n",
       "        vertical-align: middle;\n",
       "    }\n",
       "\n",
       "    .dataframe tbody tr th {\n",
       "        vertical-align: top;\n",
       "    }\n",
       "\n",
       "    .dataframe thead th {\n",
       "        text-align: right;\n",
       "    }\n",
       "</style>\n",
       "<table border=\"1\" class=\"dataframe\">\n",
       "  <thead>\n",
       "    <tr style=\"text-align: right;\">\n",
       "      <th></th>\n",
       "      <th>category</th>\n",
       "    </tr>\n",
       "  </thead>\n",
       "  <tbody>\n",
       "    <tr>\n",
       "      <th>count</th>\n",
       "      <td>37249.000000</td>\n",
       "    </tr>\n",
       "    <tr>\n",
       "      <th>mean</th>\n",
       "      <td>0.202771</td>\n",
       "    </tr>\n",
       "    <tr>\n",
       "      <th>std</th>\n",
       "      <td>0.778515</td>\n",
       "    </tr>\n",
       "    <tr>\n",
       "      <th>min</th>\n",
       "      <td>-1.000000</td>\n",
       "    </tr>\n",
       "    <tr>\n",
       "      <th>25%</th>\n",
       "      <td>0.000000</td>\n",
       "    </tr>\n",
       "    <tr>\n",
       "      <th>50%</th>\n",
       "      <td>0.000000</td>\n",
       "    </tr>\n",
       "    <tr>\n",
       "      <th>75%</th>\n",
       "      <td>1.000000</td>\n",
       "    </tr>\n",
       "    <tr>\n",
       "      <th>max</th>\n",
       "      <td>1.000000</td>\n",
       "    </tr>\n",
       "  </tbody>\n",
       "</table>\n",
       "</div>"
      ],
      "text/plain": [
       "           category\n",
       "count  37249.000000\n",
       "mean       0.202771\n",
       "std        0.778515\n",
       "min       -1.000000\n",
       "25%        0.000000\n",
       "50%        0.000000\n",
       "75%        1.000000\n",
       "max        1.000000"
      ]
     },
     "execution_count": 8,
     "metadata": {},
     "output_type": "execute_result"
    }
   ],
   "source": [
    "df.describe()"
   ]
  },
  {
   "cell_type": "code",
   "execution_count": 9,
   "id": "c5be614b",
   "metadata": {},
   "outputs": [
    {
     "data": {
      "application/vnd.microsoft.datawrangler.viewer.v0+json": {
       "columns": [
        {
         "name": "category",
         "rawType": "int64",
         "type": "integer"
        },
        {
         "name": "count",
         "rawType": "int64",
         "type": "integer"
        }
       ],
       "ref": "32467632-fb94-4416-8e0d-a289976b4bb2",
       "rows": [
        [
         "1",
         "15830"
        ],
        [
         "0",
         "13142"
        ],
        [
         "-1",
         "8277"
        ]
       ],
       "shape": {
        "columns": 1,
        "rows": 3
       }
      },
      "text/plain": [
       "category\n",
       " 1    15830\n",
       " 0    13142\n",
       "-1     8277\n",
       "Name: count, dtype: int64"
      ]
     },
     "execution_count": 9,
     "metadata": {},
     "output_type": "execute_result"
    }
   ],
   "source": [
    "df['category'].value_counts().sort_values(ascending=False)"
   ]
  },
  {
   "cell_type": "code",
   "execution_count": 10,
   "id": "73948e18",
   "metadata": {},
   "outputs": [],
   "source": [
    "new_df=df[~df['clean_comment'].isna()]"
   ]
  },
  {
   "cell_type": "code",
   "execution_count": 11,
   "id": "5567bf5e",
   "metadata": {},
   "outputs": [
    {
     "data": {
      "application/vnd.microsoft.datawrangler.viewer.v0+json": {
       "columns": [
        {
         "name": "clean_comment",
         "rawType": "bool",
         "type": "boolean"
        },
        {
         "name": "count",
         "rawType": "int64",
         "type": "integer"
        }
       ],
       "ref": "b5a5293d-46d7-40f4-a561-c365b814e4d5",
       "rows": [
        [
         "False",
         "36800"
        ],
        [
         "True",
         "449"
        ]
       ],
       "shape": {
        "columns": 1,
        "rows": 2
       }
      },
      "text/plain": [
       "clean_comment\n",
       "False    36800\n",
       "True       449\n",
       "Name: count, dtype: int64"
      ]
     },
     "execution_count": 11,
     "metadata": {},
     "output_type": "execute_result"
    }
   ],
   "source": [
    "df['clean_comment'].duplicated().value_counts()"
   ]
  },
  {
   "cell_type": "code",
   "execution_count": 12,
   "id": "cb523ce6",
   "metadata": {},
   "outputs": [
    {
     "data": {
      "application/vnd.microsoft.datawrangler.viewer.v0+json": {
       "columns": [
        {
         "name": "index",
         "rawType": "object",
         "type": "string"
        },
        {
         "name": "0",
         "rawType": "int64",
         "type": "integer"
        }
       ],
       "ref": "efcadb80-b0d9-4da4-bf9d-fc3fb987884d",
       "rows": [
        [
         "clean_comment",
         "0"
        ],
        [
         "category",
         "0"
        ]
       ],
       "shape": {
        "columns": 1,
        "rows": 2
       }
      },
      "text/plain": [
       "clean_comment    0\n",
       "category         0\n",
       "dtype: int64"
      ]
     },
     "execution_count": 12,
     "metadata": {},
     "output_type": "execute_result"
    }
   ],
   "source": [
    "new_df.isna().sum()"
   ]
  },
  {
   "cell_type": "code",
   "execution_count": 13,
   "id": "56585fe3",
   "metadata": {},
   "outputs": [
    {
     "data": {
      "text/plain": [
       "766"
      ]
     },
     "execution_count": 13,
     "metadata": {},
     "output_type": "execute_result"
    }
   ],
   "source": [
    "df['clean_comment'].str.startswith('f').sum()"
   ]
  },
  {
   "cell_type": "code",
   "execution_count": 14,
   "id": "d5c27a32",
   "metadata": {},
   "outputs": [
    {
     "data": {
      "text/plain": [
       "array([' looks like people weren impressed mudijis gaai vikas program ',\n",
       "       'taklu has better ratio than modi ', 'ebron zach miller', '\\\\\\\\ ',\n",
       "       'woman what your stand about woman empowerment modi pass this question colleague rahul gandhi',\n",
       "       'bass yehi chaiye tha democracy ',\n",
       "       ' making fun people power sacred right democracy there difference between making fun and deliberately editing image malign the image person specially someone who the public sphere and this coming from journalist remember you cannot print anything media without verifying facts they are not calling for censorship cartoons modi arresting people for calling him mass murderer psychopath and coward they are complaining about the photoshopped images modi bowing down saudi king this not humor this just very classless attempt malign the image the ',\n",
       "       'hard truth incoming monday good morning reddit ',\n",
       "       ' mood have been the same since past years',\n",
       "       ' unpopular opinion what literally everyone says this sub',\n",
       "       ' between 2014 now has only bollywood movie and that was golmaal again should clarified prakash that started with modi winning the election not when started speaking against modi last year ',\n",
       "       'nice holi present for the hindutvawaadis ',\n",
       "       ' beautiful drawing nice one',\n",
       "       ' team ppr eric ebron jason witten nyg jared cook vance mcdonald ',\n",
       "       'ughh this cringy doesn even deserve all this media attention getting because his now routine stupidity '],\n",
       "      dtype=object)"
      ]
     },
     "execution_count": 14,
     "metadata": {},
     "output_type": "execute_result"
    }
   ],
   "source": [
    "df['clean_comment'].sample(15).values"
   ]
  },
  {
   "cell_type": "code",
   "execution_count": 15,
   "id": "cb17da3f",
   "metadata": {},
   "outputs": [
    {
     "name": "stdout",
     "output_type": "stream",
     "text": [
      "the index 0, family mormon have never tried explain them they still stare puzzled from time time like some kind strange creature nonetheless they have come admire for the patience calmness equanimity acceptance and compassion have developed all the things buddhism teaches \n",
      "the index 1,buddhism has very much lot compatible with christianity especially considering that sin and suffering are almost the same thing suffering caused wanting things shouldn want going about getting things the wrong way christian this would mean wanting things that don coincide with god will and wanting things that coincide but without the aid jesus buddhism could also seen proof god all mighty will and omnipotence certainly christians are lucky have one such christ there side but what about everyone else well many christians believe god grace salvation and buddhism god way showing grace upon others would also help study the things jesus said and see how buddha has made similar claims such rich man getting into heaven joke basically advocating that should rid ourselves material possessions fact distinctly remembered jesus making someone cry because that someone asked what achieve salvation and jesus replied with live like buddhist very very roughly translated also point out that buddha rarely spoke anything about god theory personally because knew well enough leave that jesus and mohamed who came later just remember conflict difference opinion but education can fun involving and enlightening easier teach something than prove right like intelligent design \n",
      "the index 2,seriously don say thing first all they won get its too complex explain normal people anyway and they are dogmatic then doesn matter what you say see mechante post and for any reason you decide later life move from buddhism and that doesn suit you identity though you still get keep all the wisdom then your family will treat you like you went through weird hippy phase for while there didncha and you never hear the end pro tip don put one these your wall jpg \n",
      "the index 3,what you have learned yours and only yours what you want teach different focus the goal not the wrapping paper buddhism can passed others without word about the buddha \n",
      "the index 4,for your own benefit you may want read living buddha living christ thich nhat hanh you might find any subsequent discussions with your loved ones easier you are able articulate some the parallels that exist between buddhism and christianity don surprised they react negatively for having lost you treat them with compassion and deserved understanding although they may indeed display signs being hurt your new path properly sharing with them way that may alleviate their fear something they may perceive wrong the very least alien their beliefs may help allowing them the long run accept although not necessarily agree with your decision regardless where they end you have make your own way \n",
      "the index 5,you should all sit down together and watch the simpsons episode where lisa becomes buddhist simpsons season episode she little faith then discuss \n",
      "the index 6, was teens when discovered zen meditation was then undiagnosed bpd being homeschooled and just gotten 56k modem with web connection where came across link zen meditation tried for couple weeks and the change was palpable felt the most profound sense peace ever felt grades immediately started going had more energy started martial arts just huge positive change all around parents asked something was wrong fundie parents when anything changes this was where naiveté kicked foolishly told them been trying meditation and really calmed down thought they happy that found something that helped but never forget what happened next mother affected this mockingly calm breathy voice she said you can pretend calm and happy all you want but without jesus you never content was that moment that any belief had christian faith all vanished completely realized that she had probably never been happy ever have never felt profoundly sorry for someone did for her that moment \n",
      "the index 7,jesus was zen meets jew \n",
      "the index 8,there are two varieties christians dogmatic that dwell words and conservative that take heart the spirit the teachings hate oversimplify things but helps this understanding you are discussing with dogmatic religious people who live the letter the law will uphill battle wish you luck you are discussing with moderates exchange idea should come fairly easily comparing contrasting also discussing parallel teachings presented differently wouldn out the ordinary they may give you relevant spiritual advice even though you are not believer their religion \n",
      "the index 9,dont worry about trying explain yourself just meditate regularly and try hard you can more aware everything else will follow coming from someone who has been throught his situation welcome pms \n",
      "the index 10, recently told family that buddhist live the bible belt this whole ordeal involved leaving the baptist church and everything been pretty rough but those who really care about have been open and accepting they seen the good has created life and relationships with others fact there are handful christians who have lovely conversations with and that truly respect someone else suggested living buddha living christ great one read about the important dialogue between buddhists and christians also welcome you message \n",
      "the index 11, unto others you would have them unto you would good start \n",
      "the index 12,first understand that you are not anyway control how they will react always find that any subject better understood first learning the vocabulary explain what the word buddha means most people believe buddhists praise worship and follow guy named buddha christians due jesus let them know that one could both buddhist and christian with conflict the teachings and the messages jesus are indeed buddhist philosophy jesus became enlightened buddha and realized that had become annointed being christ then continue with your practice and let them work out their own issues that advice all the best \n",
      "the index 13, recently heard similar question where person asked they should introduce meditation his loved ones who had challenges coping with problems life the answer from the lama was quite interesting instead giving people advice one should focus his practice that way others will see the change and maybe even ask about personally think better keep yourself even though you must really excited about you can also keep dharma books around the house and sure people will pick them for quick browse when you are not looking learn bit about other people traditions well browsing through books they owned \n",
      "the index 14,different times different cultures same point they were trying get across jesus said god has beginning nor end buddha said mind was never born and has never died just replace the word meditation with prayer and couting the breath with the name jesus and everyone happy\n",
      "the index 15,does evil include the lady pai chunked \n",
      "the index 16,our campaign has two suns one pelor the other shamedan pelor the god all know and find bit stifling really shamedan the sun desert the burning sun who will kill you without mercy even second though shamedan brings drought and brings the fire that destroys all you own generally not very nice has race fey called desert hags who worship him and have radiant and fire resistance but they haven played nearly much part the campaign they should have \n",
      "the index 17,technically you could argue that sobek evil would represent power and also crocodiles whereas also represents fertile land also the guy could shapeshift into crocodile badass \n",
      "the index 18, zarus \n",
      "the index 19,blood and souls for lord arioch \n",
      "the index 20, always liked vecna the one time was able use him story had blast playing the fact that was far not the most powerful deity but was one the most dangerous due his portfolio but favorite pale night who technically not deity but close enough guess most the abyssal lords and the rulers the nine hells are fairly straightforward and have ample backstory but her lack thereof just intriguing \n",
      "the index 21,though don have any good suggestions for additional deities the moment you should probably have some overlap the cavern dwelling gnolls might consider pelor the god evil blinding them with his wicked light loki has sufficiently fooled them over the years into thinking their benefactor always leading them the bountiful crops they steal from the peasantry they have statues him fat woman giving out food the starving they view the god death the god justice giving righteous end those gnolls that have served brutal conflicts point view can change everything \n",
      "the index 22, cliche but you can wrong with cyric mean was mortal who just nabbed all when got the chance you gotta respect that \n",
      "the index 23,zon kuthon and his sister shelyn good deity have really cool story from the pathfinder setting plus off topic pathfinder has the coolest good deity ever cayden cailean was bard that got wasted one night stumbled into the temple the star stone artifact that can turn you into deity and woke the next morning with hangover memory the night before and godly powers \n",
      "the index 24, homebrew setting the primary lawful evil deity named for friend lewie essentially has three domains tyranny law applied without mercy vengeance and community the idea being that cruel and harsh god but also recognizes that you catch more flies with honey than with vinegar thus his church often the most benevolent toward the common people day day basis the running gag that lewian churches sponsor more inner city basketball teams than any other major faith you probably want change the name but might make interesting dynamic within your setting \n",
      "the index 25,his name shall lump wherever lumps are there warts tree burls breasts humpback whales \n",
      "the index 26,for one campaign pretty much just snatched the chaos god nurgle lord plague from the whfb wh40k universe renamed him narghull was nar ghull can remember random apostrophes are always nice though the campaign revolved around his cult trying wake the god from sleep that had lasted 1000 years but sadly stalled very lazy this was back was never meant encountered directly meaning never worked out any stats anything basically works spread plague and other diseases and pretty damn evil think \n",
      "the index 27,demogorgon because fuck you and your shit god \n",
      "the index 28,you want badasss evil gods you want real gods then choose from this list there plenty evil cthulhu mythos \n",
      "the index 29,pelor the burning hate the best evil god \n",
      "the index 30,fyi the traditional chtonic deity for magic for the romans least was the goddess hecate \n",
      "the index 31, far evil goes big fan shar from the forgotten realms setting the god ultimate despair loss and suffering you know god evil when followers don even bother asking for small boons but instead invoke suffering themselves and others hopes that those events will enough prevent the god from needing get involved personally bringing suffering into the world shar isn one those pansy goddesses evil where you might get nod appreciation for sacrifice with shar you better kill somebody damn near ever day and you get nothing and like with check out the dogma here \n",
      "the index 32, like the idea prometheus giving magic the pcs however think that prometheus should more like demi god and that the reason why gives the magic mortals prometheus could jealous the fact that the gods have all the powers and they granted him only half status upon his creation thus his revenge giving humanity order turn the tides power among deities and mortals furthermore perhaps the repercussion prometheus feels from his action being dragged the underworld cerberus making him seem less than deity like and more mortal inhuman order face judgment from egyptian goddess morals virtue and judge the dead \n",
      "the index 33,pelor the burning hate also hextor boss god tyranny and conquest always fun think one the books there god lawyers too \n",
      "the index 34,wee jas lawful neutral god death magic and necromancy not evil god but perfect representation the inevitable things which mortals fear while other evil gods make plans which may thwarted wee jas merely waits all shall come her the end also playing cleric her fabulous fun \n",
      "the index 35,zen master bassui said when the functioning analytical consciousness destroyed feelings are purified this referred the pure land the west you truly want know the meaning being born the pure land you must first know the master who born this land the physical body has never from its inception been the true body but rather temporary formation the five aggregates after the four elements disperse what remains called the self the self originally empty what that born the pure land there master born the pure land what that seeks this land bliss just extinguish the ever seeking mind rid thoughts and attachment form and the body consisting the four elements will have individual self when there individual mind the nature mind and there aspect disorder \n",
      "the index 36,pure land other power opposed the usual self power taught most buddhist schools though the pure land here and now and not some other dimension the afterlife \n",
      "the index 37,there are many flavours buddhism pure land ideas are not common all them however the important thing realize doesn really matter that the big difference compared the abrahamic religions buddhism not dogmatic the sense bunch things that must taken literally else you are non believer sinner whatever maybe pure land ideas work for you great maybe they don great what works for you works for you what doesn work useless you the historical buddha himself taught dramatically different styles suit his audience parables and metaphors are just that the point where they take you not literally believing them literally and physically true zen koans are good example this very purely distilled most are the form stories but not stories you are believe physically happened you are reading history book that entirely irrelevant what the story does you that the point you are wondering did this really happen does this place really exist you are missing that point also worth noting that most things are about psychological phenomenon not physical phenomenon personally find this makes buddhist cosmology much easier understand than considering competitor physical cosmology they not conflict they just about different cosmos \n",
      "the index 38, going try comment this simply can gets metaphysical and some may even say supernatural but hope you can try maintain open mind enough for help with your understanding everything that physical everything that exists the universe and beyond are created the power the mind exercised through consciousness mara created the samsara worlds planes dimensions that may experience joy sadness love heartbreaks etc this was done through his her its focus the mind and streams consciousness began attracted these worlds planes dimensions and begin develop craving for existence and thus begins the cycle rebirth the pure lands buddhism were created the focus the mind amitabha buddha way help individuals attain enlightenment their own pace amitabha buddha understood that the attraction emotions sex love and existence can overwhelming for normal individuals overcome within one lifetime 100 years average for human beings other beings much shorter and yet others much longer created the pure lands the west place refuge and practice for those who call upon his name sincerely this place not metaphorical state mind while these individuals are earth for lack better word real though not necessarily physical the way feel physical things via the electromagnetic repelling force electrons this world certain laws physics are applicable that world land plane dimension whatchamacallit certain laws physics not apply and yet newer laws superphysics would also the rule there that not the law our world now having been carried this land doesn mean that the individuals are guaranteed enlightenment first they still need cultivate themselves while there enlightenment not given dependant every single individual consciousness efforts shed the fetters samsara anger ignorance and jealousy and embrace the noble truths they may choose rejoin the samsaric worlds again and back into the cycle rebirth but least they have the option stay and cultivate themselves the pure land the west that would the main difference between the abrahamic idea heaven against the amitabha buddha pure lands the west hope this helps \n",
      "the index 39, think your characterization pure land isn that far off there reason not that popular among westerners odd abandon christianity judaism and take pure land because first impressions buddhism was that was devoid dogma but now seems much leap faith the abrahamic religions least the pure land sect most forms buddhism have some sort supernatural element some orthodox believers might deny that just like some christians might attempt make scientific arguments for the world being 6000 years old the very least you have rebirth and different planes that includes devas zen seems have the least reverence for dogma which why popular the west the other western strategy assume things are meaningful figuratively and not literally but yeah buddhism religion the end the day for most its followers \n",
      "the index 40,most religions have dogmatic orthodox well esoteric philosophic side the christian heaven can seen palace the clouds state mind rebirth buddhism can seen fact just superstition left over from other beliefs you interpret and understand you see fit like think about various religions talking about the same thing using different words and yes cherry pick what believe but honestly and very carefully think better than taking everything religion says and rejecting everything doesn say there must hundred different ways talk about enlightenment heaven pure land individuation alchemy rites passage education trials meditation the tricky part that what describes can easily explained words and most importantly has understood which different than just knowing reading about the pure land real place state mind doubt real place but sure some will believe buddhism has some dogma but not nearly much eastern religions \n",
      "the index 41,you won find one answer your question but the pure land state mind perspective reality not separate place let quote thich nhat hanh human beings our deepest desire find environment which secure and where there love and understanding all want live such environment you live surroundings where you feel there security understanding and love and where people have the capacity transform their suffering fear and attachment then you live the pure land from finding our true home this isn leap faith all because you have already been the pure land but momentarily every time you bring the buddha mind fully then you are said the pure land imagine because you enter that state some degree this not matter faith but expanding upon what you know joyful experience quite different the abrahamic religions concept heaven which eschatological reality rather than gnostic one will add that there course are some who believe the pure land totally separate paradise however there are positive ways understanding this when the state mind another rebirth will seem like such foreign reality that may well different place entirely \n",
      "the index 42, first impressions buddhism was that was devoid dogma isn good thing about buddhism least for outsider that much easier pick and choose what parts you not want use see dogma kind environment habitat for the profound and useful ideas develop all religions have something useful buddhist religions and not just one homogeneous buddhism just seem have something that more relevant and powerful the context our culture \n",
      "the index 43,from limited knowledge the pure land not paradise but place contemplation stepping off point where you are given the knowledge leave the cycle suffering and rebirth anything more akin the now defunct catholic idea purgatory than actual heaven \n",
      "the index 44, response your question about how amitabha created the pure land this quote from the article pure land buddhism wikipedia the longer sukhāvatīvyūha sūtra the buddha begins describing his attendant ānanda past life the buddha amitābha states that past life amitābha was once king who renounced his kingdom and became bodhisattva monk named dharmākara dharma storehouse under the guidance the buddha lokeśvararāja world sovereign king innumerable buddha lands throughout the ten directions were revealed him after meditating for five eons bodhisattva then made great series vows save all sentient beings and through his great merit created the realm sukhāvatī ultimate bliss this land sukhāvatī would later come known the pure land chinese translation important remember that buddhism has been around for thousands years and that for long time buddhists didn have telescopes big machines scan the brain with his holiness the dalai lama himself has said that the discoveries science and the teachings buddhism contradict then the discoveries science are correct this video tgv1gwvrz one the major teachings the buddha was test out each his teachings oneself order see they were true rather than taking his word faith without proof however course just man who has seen mountain some remote region where one has not traveled may believed until the distance that region crossed might have some sort faith buddhist teachings since the people doing the teachings have often devoted their whole lives the teachings the buddha \n",
      "the index 45,exactly the song was jamming when made this \n",
      "the index 46, nam indeed \n",
      "the index 47, jbdbx28pxga\n",
      "the index 48,maybe they ate dosa who knows \n",
      "the index 49,according this nbc chicago article walsh holds ladies week 169189026 html here what they have say about joe walsh unless you’ conservative suburban white male over rep joe walsh tea party ill has said something offend you walsh’ rhetoric has been caricature the image republicans party devoted only old white guys \n",
      "the index 50,are you guys seriously pissed about idli sambar remark thought were past all this second thoughts one gives shit about the tea party not even the their craziness got too much even for the hardcore republicans \n",
      "the index 51, tea partier expresses support for namo after eating idli sambar with conservative indian american group indiatribune com submitted minutes ago ladki realize you hate modi but you just showed off your casual racism with that idli sambhar snide remark another thought fuck off \n",
      "the index 52,the discussion about the rat ended concluding won work because you will naturally headbutt the rat death minotaur might work with another race though trog wrath very very very difficult survive you have boots levitation and lots food you might able hover over lava deep water won help summons giant sized creatures other than that tomb card might work you have your stash food not sure you not using shield you might well switch two handed axe from experience anti magic isn that great with brand fire you can generally kill things faster use holy versus liches and other undead casters and also kill them faster \n",
      "the index 53, could swear they lowered trog wrath just got extremely lucky because recently tried make the switch kobe and was not difficult all just took food ring and some perma food and carved out two space area near the the summons were actually not the worst part the worst got was berserk hill giant and the vast majority were just berserk bears for the worst part was actually the rotting since happened least times and never caught right away while spamming rest\n",
      "the index 54,for the love gods don the abyss until trog wrath over none your teleport blink panic buttons work lost handful very promising mibes this way \n",
      "the index 55, when and how supposed swap tso and branch order from there basically you switch immediately before entering crypt clear crypt max tso piety then holy brand your best weapon your case that executioners axe and off you post endgame branch order like whatever theres strict order like there the early game whichever branch you feel best prepared for how avoid meeting terrible fate the hands trog wrath you have book with blink soon you leave trog train transloc little bit that you can cast then whenever surrounds you with berserking enemies you can blink out the middle them and run staircase teleport you can keep scrolls blinking hand for this purpose but feel more secure also having the spell trog wrath includes fire miscasts that burn all your shit see trick with going lair and having rat block you off but this still viable you can the rat shield thing with most combos but its tedious and unnecessary and your case the minotaur retaliatory headbutt would kill the rat anyway its not option antimagic axe that carry around viable for use all since strictly one handed should train shields use with since have shield reflection could use not really war axes arent very good and while has fantastic selection resists does little damage that its not practical choice weapon against any tough monster wouldnt forgo the damage output weapon use physical shield shields arent very good for melee allruners and therse always tsos divine shield ability you want reflection isnt good shield brand plus its double not good for tso worshiper you reflect poison projectile and hits something you will incur penance for use poison \n",
      "the index 56, brother trog very wrathful indeed but his will destroy you neither endless nor inevitable going take the route many will find the easy way out and say that getting past trog your level trivial his wrath dangerous out the open but when you are able choose the area diluted mere timesink what you must grab your closest disintegration wand and cut two diagnols into the wall this will allow you only view one other tile time this point you simply need make sure you have good chunks permafood pip two and then either drop your scrolls wear conservation that point you just spam rest and then tab every time trog has tantrum minotaur your power should have trouble killing his summons after long while you will get message saying has calmed down then you are free worship that damned tso trog wrath your level probably one the least dangerous things you can spend your time dealing with you are willing cheese \n",
      "the index 57, were you slime zot except for the orb chamber and blade hopefully you find some better armour you really want good executioner axe before you convert well the okay but could better you really need wearing plate gda something heavier you have more than abandoned trog with level mibe and found pretty trivial the berserked stone giants weren terribly difficult and cleared tomb and most all hells while under trog wrath but somewhat wary trying this with your low and weak weapon you could try waiting out but takes thousands and thousands turns very boring one handed axes suck use executioner axe \n",
      "the index 58, have currently rune mibe right now and abandoned trog then immediately cleared crypt max piety and enchant executioner axe then threw caution the winds and cleared pan and hells while under trog wrath was tricky but doable make sure you have curing potions that time was strong enough take out trog summons all sides problem worked but could have died with worse luck \n",
      "the index 59, your stage you should strong enough take the berserk summons have the resources escape out them retreat corridor and take them one one quaff curing heal rot would also recommend you get plate armour better asap for the and guaranteed damage reduction also wield the biggest axes you can find kill things faster \n",
      "the index 60, you max armour dodging and shields for tso divine shield then the berserkers are joke can wipe them even when fully surrounded and only lose health even with armour and dodging they won give you much trouble \n",
      "the index 61,ewwww why are you using broad axe get real weapon bet trog gave you good battleaxe exec axe something splint get plate armour better trog wrath will completely destroy char with such poor defenses \n",
      "the index 62,aeee mere watan kaee logoo … zaraa aankh mein bharr loo paani … \n",
      "the index 63,kahin dubara rss nahi join kar \n",
      "the index 64, mera kar dega main bhi tera kar dunga \n",
      "the index 65, must transitioning new avatar\n",
      "the index 66,اللعنة عليك bismillah rasool wasallam barigatul maudolul muhammad sallolulu اللعنة عليكاللعنة عليكاللعنة عليك القضيب الكفارmay allah grant him jannah and sexy houris القضيب الكفار\n",
      "the index 67,saar don take tenshan will rize frm his asses and fly sum day sum day \n",
      "the index 68,can congress eliminate namo and blame advani \n",
      "the index 69, don know but surely there his statue every bjp ruled state and have half the schemes named after him couple airports too they did for guy like savarkar compared whom modi small fry \n",
      "the index 70,after seeing this uvjx3kwoehw video seems anything possible with the congress party \n",
      "the index 71, 27s law headlines\n",
      "the index 72,congress needs bogeyman modi without the bad guy where will the muslim votes the voter turn out good bjp will make successful coalition form government the current moods definitely suggest the same \n",
      "the index 73,yeah they got suicide wish some posters said the aftermath gonna one the biggest communal riots atleast gujarat \n",
      "the index 74,you mean the ruling coalition government hatch scheme assassinate their biggest political rival months before the next national election and then blame the incident muslim terrorism yea and also prepare witness the biggest religious genocide the history india \n",
      "the index 75,question for anyone from the over gujaratis who did not vote for modi why \n",
      "the index 76, want know how prevalent casteism especially untouchability gujarat gujarati muslims speak gujarati their first language urdu some other dialect there much internal migration into gujarat from other states such bihar etc what percentage gujaratis can speak hindi english tell something about how gujaratis try etc \n",
      "the index 77,how people get daaru gujarat why drinks are prohibited the first place other words weekender drinker need scotch saturday evenings can get this gujarat why should and work gujarat even live there how are the alcohol smuggling contained gujarat easy smuggle daaru from neighboring state into gujarat ambani driving into the city with bottles daaru will his vehicle checked the check points \n",
      "the index 78, have impress gujju girl how begin \n",
      "the index 79,please don downvote this thread and comments you don have any interest the state leave alone for those you complaining about politics please something constructive and ask talk about the state and the people instead leaving one liner modi messages \n",
      "the index 80,who the most charismatic leader after modi who has worked the ground level for the upliftment gujarat state let know the people who have worked immensely for the development gujarat but are not quite popular the national media \n",
      "the index 81, heard there was direct line narendra modi which can accessed any average gujju this true \n",
      "the index 82, dear going very difficult keep discussion about modi this page from there are many glorious commentaries happening mainstream media about the status improvement gujarat how true that why are gujaratis mostly vegetarian when spoke guy from gurgaon not douchey type about relocating gujarat mentioned that kinda different and uncomfortable haryana how gujaratis feel about other state guys gujarati manoos movements there \n",
      "the index 83, know gujjus are big veg food but isn there least one gujju non veg dish worth trying out edit you retards are going downvote this least have the decency tell the reason \n",
      "the index 84,how the public transportation gujarat from friends experience really bad when compared tamil nadu andhra pradesh \n",
      "the index 85, family personally has always had good relations with muslim families before and after the 2002 riots have noticed one big change ahmedabad last years muslims and hindus travel each others areas bade aaram know should always like that and there shouldn ghettoization the first place but you cannot change something overnight ghettos have always been there ahmedabad there are religion based laws that regulate the purchases real estate now weekends see hordes muslims parks malls hindu dominated areas this something you can only feel good about you have seen the historical animosity first hand while land being occupied private owners during the real estate bubble earlier last decade corporations started building gardens all across the city availability public spaces also opened social opportunity for people right after the carnage don understand sociology and its relation with architecture but guess open spaces contribute people feeling more comfortable however when real estate prices started going housing has been completely out reach for middle class lot malls open only close down later any time mall all see people chilling the centrally cooled off ambiance than any shopping you can take land away from people but they will reclaim one way another for youth this state can really boring you can travel and visit places but you want kick around the city during weekend there hardly anything add that the prohibition that takes out huge venue for people hangout ahmedabad baroda and surat you can see groups people sitting curbs and parking lots and chatting because there nowhere else again own inclination towards the want public spaces could cloud judgment gujarat has always been safe for women could trust that sister and her friends would come home safely after late night show dandiya lately there has been lot incidences chain snatching and robberies lot migration has taken place the same time don know both are related bootleggers check major illegal activities are around booze and real estate are much lower than punjab ncr and higher than south indian states bragging \n",
      "the index 86,don discuss gujrat like everyday \n",
      "the index 87,geez why every single post this thread downvoted \n",
      "the index 88, lets talk about the elephant the room regardless what the media wants think how good bad the equation between hindu muslims gujrat was good before that has worsened improved since then \n",
      "the index 89,does ahmedabad have chance becoming the next great metro city india joining the first four bangalore and hyd \n",
      "the index 90,how devarshi patel the ultimate rockstar from ahmadabad \n",
      "the index 91,why that there are not many big companies gujarat \n",
      "the index 92,dry state why \n",
      "the index 93, the sabarmati waterfront really good maintained properly why autorickshaws like cram people where should only max people inside arent there any safety regulations regarding that \n",
      "the index 94, questions about garba and uttrayan \n",
      "the index 95, always hear about modi when comes gujarat politics who are some less unknown politicians should know about \n",
      "the index 96, you were pick one other state you consider closest your culture what would raj \n",
      "the index 97, have heard that due the booze policy women feel much safer night gujarat this true why the addiction fried snacks must visit places \n",
      "the index 98, more worried about gujarat child sex ratio stands 886 village population 400 500 there are roughly single guys who are years old only girls were single years older and they got married nris this the case for many villages this continue most likely guys will have give dowry girls gujarat \n",
      "the index 99,scheduled castes day before marriage parties are awesome they get drunk and dance like crazy plays songs god knows what languages but they dance crazy closer foreign clubs starts around 10pm and goes till 4am was there only for minutes friends didnt wanted stay there girls and guys from all ages but after around midnight only youngsters mostly singles left dancing and what heard that they khet and fuck like crazy after party didn see that part recorded video and took pictures but fucking lost iphone5 \n",
      "the index 100, want move gujarat and live there for few months any city that you can recommend \n",
      "the index 101,fun fact under the current fsi rules cities like ahmeadbad surat vadodra etc you will not find buildings residential commercial taller then 200ft the result this policy cities have grown horizontally then vertically ahmedabad from what was years ago now incorporates much bigger footprint \n",
      "the index 102,what problems you face your daily life mean form gov system \n",
      "the index 103,does baby have the buddha nature \n",
      "the index 104, all bullshit experts said was practically impossible move 000 people short span time even the armed forces whose personnel are trained for such massive tasks the government own records showed that the 000 odd people who have returned gujarat till saturday about 200 had used arrangements made the state government the 400 plus pilgrims that reached ahmedabad railway station sunday morning had made their own arrangements return home source cms \n",
      "the index 105, need modditor \n",
      "the index 106, pretty sure this sarcasm satire the news 15000 people saved stems from only one source toi article author anand soondas author with exclusive profile writing anti modi articles toi the last line the article giveaway asked about the new model rescue and relief operation modi that has helped 000 gujaratis get out uttarakhand angry congress legislator said see that what mean his model works only for gujaratis cms\n",
      "\n",
      "the index 107,saw this twitter india apco 000\n",
      "the index 108, why not have ama someone rescued uttarakhand government sure that more fiery \n",
      "the index 109,disasster management teams from world around can learn from this that how you can rescue 15000 people from such place and what machinery and what human resources you used you can nothing that sort and avail the serivces apco \n",
      "the index 110,where when did modi claim rescue 15000 people far know his government organized transportation gujarat plane and road judging the reports that are coming out from uttarakhand about survivors being raped and looted goons say did the right thing pulling out gujaratis soon possible least they won have suffer relief camps and mercy state government for food and water \n",
      "the index 111,bjp forward caste leaders advani rajnath joshi naidu gadkari jaitley yashwant sushma will not accept modi their prime minister candidate they collude with congress cbi malign dump eliminate modi appropriate time the pretext godhra riots till then bjp will use modi only for getting urban india votes elections google corrupt money with forward caste people saradha group financial scandal billion igi airport scam billion coal mining scam billion karnataka wakf board land scam billion andhra pradesh land scam billion service tax and central excise duty fraud billion gujarat psu financial irregularities billion fdes maharashtra stamp duty scam million highway scam million ministry external affairs gift scam 000 fde himachal pradesh pulse scam 000 month flying club fraud million jammu and kashmir cricket association scam million punjab paddy scam million arvind joshi and tinu joshi million uttar pradesh seed scam million obsolete french fighter jets billion nhrm billion goa mining scam million noida corporation farm land scandal million bellary mines scandal billion kashyap epfo scam million hasan ali khan billion isro devas million cash for votes 000 spectrum scam tata ambani radia tapes kanimozhi raja billion adarsh housing society commonwealth games billion lic housing loan scam million belekeri port billion lavasa million uttar pradesh food grain billion apiiic billion ipl cricket billion madhu koda million uidai billion vasundhara raje land scam billion satyam billion scorpene deal million oil for food programme natwar singh billion gegong apang pds million taj corridor million ketan parekh million barak missile million calcutta stock exchange million cobbler scam million sukh ram million snc lavalin million advani hawala million bihar fodder million bhansali million pickle bribes 000 telgi scam billion jmm bribes 000 sugar import miillion harshad mehta million indian bank million bofors million hdw commissions million antulay million nagarwala million haridas mundhra million kuo oil scandal 000 teja loans million bhu 000 jeep scandal 000 \n",
      "the index 112, ozutcxknmzg\n",
      "the index 113,ama request kapil sibal need more explanation about zero loss theory this theory some how connected string theory theory \n",
      "the index 114, too much attention \n",
      "the index 115,put that days back \n",
      "the index 116,rofl why are you asking permission you and your internet sena already have ghotofied his message any one you can this ama posing him just ask your social media viral team leader for permission and happy with your initiative only thing steal your idea and not give you credit but you fine being phokat nachne wala tattu rofl \n",
      "the index 117,namo will ama here one day not worry \n",
      "the index 118, deserves you think deserve such mainstream media attention with the number shady accounts that have fuck hate the new india well most anyway think mods should try ban toi ndtv etc urls from submission test run for few days \n",
      "the index 119, india after namo ama \n"
     ]
    }
   ],
   "source": [
    "for index, row in df['clean_comment'].iloc[:120].items():\n",
    "    print(f'the index {index},{row}')"
   ]
  },
  {
   "cell_type": "code",
   "execution_count": 16,
   "id": "aad4f6f3",
   "metadata": {},
   "outputs": [
    {
     "data": {
      "application/vnd.microsoft.datawrangler.viewer.v0+json": {
       "columns": [
        {
         "name": "index",
         "rawType": "int64",
         "type": "integer"
        },
        {
         "name": "clean_comment",
         "rawType": "object",
         "type": "string"
        }
       ],
       "ref": "152eada3-ea5d-445a-b4a3-9d501b6fb240",
       "rows": [
        [
         "0",
         " family mormon have never tried explain them they still stare puzzled from time time like some kind strange creature nonetheless they have come admire for the patience calmness equanimity acceptance and compassion have developed all the things buddhism teaches "
        ],
        [
         "1",
         "buddhism has very much lot compatible with christianity especially considering that sin and suffering are almost the same thing suffering caused wanting things shouldn want going about getting things the wrong way christian this would mean wanting things that don coincide with god will and wanting things that coincide but without the aid jesus buddhism could also seen proof god all mighty will and omnipotence certainly christians are lucky have one such christ there side but what about everyone else well many christians believe god grace salvation and buddhism god way showing grace upon others would also help study the things jesus said and see how buddha has made similar claims such rich man getting into heaven joke basically advocating that should rid ourselves material possessions fact distinctly remembered jesus making someone cry because that someone asked what achieve salvation and jesus replied with live like buddhist very very roughly translated also point out that buddha rarely spoke anything about god theory personally because knew well enough leave that jesus and mohamed who came later just remember conflict difference opinion but education can fun involving and enlightening easier teach something than prove right like intelligent design "
        ],
        [
         "2",
         "seriously don say thing first all they won get its too complex explain normal people anyway and they are dogmatic then doesn matter what you say see mechante post and for any reason you decide later life move from buddhism and that doesn suit you identity though you still get keep all the wisdom then your family will treat you like you went through weird hippy phase for while there didncha and you never hear the end pro tip don put one these your wall jpg "
        ],
        [
         "3",
         "what you have learned yours and only yours what you want teach different focus the goal not the wrapping paper buddhism can passed others without word about the buddha "
        ],
        [
         "4",
         "for your own benefit you may want read living buddha living christ thich nhat hanh you might find any subsequent discussions with your loved ones easier you are able articulate some the parallels that exist between buddhism and christianity don surprised they react negatively for having lost you treat them with compassion and deserved understanding although they may indeed display signs being hurt your new path properly sharing with them way that may alleviate their fear something they may perceive wrong the very least alien their beliefs may help allowing them the long run accept although not necessarily agree with your decision regardless where they end you have make your own way "
        ],
        [
         "5",
         "you should all sit down together and watch the simpsons episode where lisa becomes buddhist simpsons season episode she little faith then discuss "
        ],
        [
         "6",
         " was teens when discovered zen meditation was then undiagnosed bpd being homeschooled and just gotten 56k modem with web connection where came across link zen meditation tried for couple weeks and the change was palpable felt the most profound sense peace ever felt grades immediately started going had more energy started martial arts just huge positive change all around parents asked something was wrong fundie parents when anything changes this was where naiveté kicked foolishly told them been trying meditation and really calmed down thought they happy that found something that helped but never forget what happened next mother affected this mockingly calm breathy voice she said you can pretend calm and happy all you want but without jesus you never content was that moment that any belief had christian faith all vanished completely realized that she had probably never been happy ever have never felt profoundly sorry for someone did for her that moment "
        ],
        [
         "7",
         "jesus was zen meets jew "
        ]
       ],
       "shape": {
        "columns": 1,
        "rows": 8
       }
      },
      "text/html": [
       "<div>\n",
       "<style scoped>\n",
       "    .dataframe tbody tr th:only-of-type {\n",
       "        vertical-align: middle;\n",
       "    }\n",
       "\n",
       "    .dataframe tbody tr th {\n",
       "        vertical-align: top;\n",
       "    }\n",
       "\n",
       "    .dataframe thead th {\n",
       "        text-align: right;\n",
       "    }\n",
       "</style>\n",
       "<table border=\"1\" class=\"dataframe\">\n",
       "  <thead>\n",
       "    <tr style=\"text-align: right;\">\n",
       "      <th></th>\n",
       "      <th>clean_comment</th>\n",
       "    </tr>\n",
       "  </thead>\n",
       "  <tbody>\n",
       "    <tr>\n",
       "      <th>0</th>\n",
       "      <td>family mormon have never tried explain them t...</td>\n",
       "    </tr>\n",
       "    <tr>\n",
       "      <th>1</th>\n",
       "      <td>buddhism has very much lot compatible with chr...</td>\n",
       "    </tr>\n",
       "    <tr>\n",
       "      <th>2</th>\n",
       "      <td>seriously don say thing first all they won get...</td>\n",
       "    </tr>\n",
       "    <tr>\n",
       "      <th>3</th>\n",
       "      <td>what you have learned yours and only yours wha...</td>\n",
       "    </tr>\n",
       "    <tr>\n",
       "      <th>4</th>\n",
       "      <td>for your own benefit you may want read living ...</td>\n",
       "    </tr>\n",
       "    <tr>\n",
       "      <th>5</th>\n",
       "      <td>you should all sit down together and watch the...</td>\n",
       "    </tr>\n",
       "    <tr>\n",
       "      <th>6</th>\n",
       "      <td>was teens when discovered zen meditation was ...</td>\n",
       "    </tr>\n",
       "    <tr>\n",
       "      <th>7</th>\n",
       "      <td>jesus was zen meets jew</td>\n",
       "    </tr>\n",
       "  </tbody>\n",
       "</table>\n",
       "</div>"
      ],
      "text/plain": [
       "                                       clean_comment\n",
       "0   family mormon have never tried explain them t...\n",
       "1  buddhism has very much lot compatible with chr...\n",
       "2  seriously don say thing first all they won get...\n",
       "3  what you have learned yours and only yours wha...\n",
       "4  for your own benefit you may want read living ...\n",
       "5  you should all sit down together and watch the...\n",
       "6   was teens when discovered zen meditation was ...\n",
       "7                           jesus was zen meets jew "
      ]
     },
     "execution_count": 16,
     "metadata": {},
     "output_type": "execute_result"
    }
   ],
   "source": [
    "df.iloc[0:8,:1]"
   ]
  },
  {
   "cell_type": "code",
   "execution_count": 17,
   "id": "9724c7aa",
   "metadata": {},
   "outputs": [
    {
     "data": {
      "application/vnd.microsoft.datawrangler.viewer.v0+json": {
       "columns": [
        {
         "name": "category",
         "rawType": "int64",
         "type": "integer"
        },
        {
         "name": "count",
         "rawType": "int64",
         "type": "integer"
        }
       ],
       "ref": "64de00c8-36f6-4dcc-86fe-e10bd84da95d",
       "rows": [
        [
         "1",
         "15830"
        ],
        [
         "-1",
         "8277"
        ],
        [
         "0",
         "13142"
        ]
       ],
       "shape": {
        "columns": 1,
        "rows": 3
       }
      },
      "text/plain": [
       "category\n",
       " 1    15830\n",
       "-1     8277\n",
       " 0    13142\n",
       "Name: count, dtype: int64"
      ]
     },
     "execution_count": 17,
     "metadata": {},
     "output_type": "execute_result"
    }
   ],
   "source": [
    "df['category'].value_counts(sort=False)"
   ]
  },
  {
   "cell_type": "code",
   "execution_count": 18,
   "id": "34c762e3",
   "metadata": {},
   "outputs": [
    {
     "ename": "KeyError",
     "evalue": "'clean_comment'",
     "output_type": "error",
     "traceback": [
      "\u001b[0;31m---------------------------------------------------------------------------\u001b[0m",
      "\u001b[0;31mKeyError\u001b[0m                                  Traceback (most recent call last)",
      "Cell \u001b[0;32mIn[18], line 1\u001b[0m\n\u001b[0;32m----> 1\u001b[0m df[\u001b[38;5;124m'\u001b[39m\u001b[38;5;124mclean_comment\u001b[39m\u001b[38;5;124m'\u001b[39m] \u001b[38;5;241m!=\u001b[39m \u001b[43mdf\u001b[49m\u001b[43m[\u001b[49m\u001b[38;5;124;43m'\u001b[39;49m\u001b[38;5;124;43mclean_comment\u001b[39;49m\u001b[38;5;124;43m'\u001b[39;49m\u001b[43m]\u001b[49m\u001b[38;5;241;43m.\u001b[39;49m\u001b[43mastype\u001b[49m\u001b[43m(\u001b[49m\u001b[38;5;28;43mstr\u001b[39;49m\u001b[43m)\u001b[49m\u001b[38;5;241;43m.\u001b[39;49m\u001b[43mstr\u001b[49m\u001b[38;5;241;43m.\u001b[39;49m\u001b[43mstrip\u001b[49m\u001b[43m(\u001b[49m\u001b[43m)\u001b[49m\u001b[43m[\u001b[49m\u001b[38;5;124;43m'\u001b[39;49m\u001b[38;5;124;43mclean_comment\u001b[39;49m\u001b[38;5;124;43m'\u001b[39;49m\u001b[43m]\u001b[49m\u001b[38;5;241m.\u001b[39mvalue_counts()\n",
      "File \u001b[0;32m~/miniforge3/envs/yt_project/lib/python3.10/site-packages/pandas/core/series.py:1133\u001b[0m, in \u001b[0;36mSeries.__getitem__\u001b[0;34m(self, key)\u001b[0m\n\u001b[1;32m   1130\u001b[0m     \u001b[38;5;28;01mreturn\u001b[39;00m \u001b[38;5;28mself\u001b[39m\u001b[38;5;241m.\u001b[39m_values[key]\n\u001b[1;32m   1132\u001b[0m \u001b[38;5;28;01melif\u001b[39;00m key_is_scalar:\n\u001b[0;32m-> 1133\u001b[0m     \u001b[38;5;28;01mreturn\u001b[39;00m \u001b[38;5;28;43mself\u001b[39;49m\u001b[38;5;241;43m.\u001b[39;49m\u001b[43m_get_value\u001b[49m\u001b[43m(\u001b[49m\u001b[43mkey\u001b[49m\u001b[43m)\u001b[49m\n\u001b[1;32m   1135\u001b[0m \u001b[38;5;66;03m# Convert generator to list before going through hashable part\u001b[39;00m\n\u001b[1;32m   1136\u001b[0m \u001b[38;5;66;03m# (We will iterate through the generator there to check for slices)\u001b[39;00m\n\u001b[1;32m   1137\u001b[0m \u001b[38;5;28;01mif\u001b[39;00m is_iterator(key):\n",
      "File \u001b[0;32m~/miniforge3/envs/yt_project/lib/python3.10/site-packages/pandas/core/series.py:1249\u001b[0m, in \u001b[0;36mSeries._get_value\u001b[0;34m(self, label, takeable)\u001b[0m\n\u001b[1;32m   1246\u001b[0m     \u001b[38;5;28;01mreturn\u001b[39;00m \u001b[38;5;28mself\u001b[39m\u001b[38;5;241m.\u001b[39m_values[label]\n\u001b[1;32m   1248\u001b[0m \u001b[38;5;66;03m# Similar to Index.get_value, but we do not fall back to positional\u001b[39;00m\n\u001b[0;32m-> 1249\u001b[0m loc \u001b[38;5;241m=\u001b[39m \u001b[38;5;28;43mself\u001b[39;49m\u001b[38;5;241;43m.\u001b[39;49m\u001b[43mindex\u001b[49m\u001b[38;5;241;43m.\u001b[39;49m\u001b[43mget_loc\u001b[49m\u001b[43m(\u001b[49m\u001b[43mlabel\u001b[49m\u001b[43m)\u001b[49m\n\u001b[1;32m   1251\u001b[0m \u001b[38;5;28;01mif\u001b[39;00m is_integer(loc):\n\u001b[1;32m   1252\u001b[0m     \u001b[38;5;28;01mreturn\u001b[39;00m \u001b[38;5;28mself\u001b[39m\u001b[38;5;241m.\u001b[39m_values[loc]\n",
      "File \u001b[0;32m~/miniforge3/envs/yt_project/lib/python3.10/site-packages/pandas/core/indexes/range.py:417\u001b[0m, in \u001b[0;36mRangeIndex.get_loc\u001b[0;34m(self, key)\u001b[0m\n\u001b[1;32m    415\u001b[0m         \u001b[38;5;28;01mraise\u001b[39;00m \u001b[38;5;167;01mKeyError\u001b[39;00m(key) \u001b[38;5;28;01mfrom\u001b[39;00m\u001b[38;5;250m \u001b[39m\u001b[38;5;21;01merr\u001b[39;00m\n\u001b[1;32m    416\u001b[0m \u001b[38;5;28;01mif\u001b[39;00m \u001b[38;5;28misinstance\u001b[39m(key, Hashable):\n\u001b[0;32m--> 417\u001b[0m     \u001b[38;5;28;01mraise\u001b[39;00m \u001b[38;5;167;01mKeyError\u001b[39;00m(key)\n\u001b[1;32m    418\u001b[0m \u001b[38;5;28mself\u001b[39m\u001b[38;5;241m.\u001b[39m_check_indexing_error(key)\n\u001b[1;32m    419\u001b[0m \u001b[38;5;28;01mraise\u001b[39;00m \u001b[38;5;167;01mKeyError\u001b[39;00m(key)\n",
      "\u001b[0;31mKeyError\u001b[0m: 'clean_comment'"
     ]
    }
   ],
   "source": [
    "df['clean_comment'] != df['clean_comment'].astype(str).str.strip()['clean_comment'].value_counts()"
   ]
  },
  {
   "cell_type": "code",
   "execution_count": 19,
   "id": "98c36c70",
   "metadata": {},
   "outputs": [
    {
     "data": {
      "application/vnd.microsoft.datawrangler.viewer.v0+json": {
       "columns": [
        {
         "name": "index",
         "rawType": "int64",
         "type": "integer"
        },
        {
         "name": "clean_comment",
         "rawType": "object",
         "type": "string"
        },
        {
         "name": "category",
         "rawType": "int64",
         "type": "integer"
        }
       ],
       "ref": "4c13f7d6-9655-4f75-b8f7-2c2781bbc41c",
       "rows": [
        [
         "2",
         "seriously don say thing first all they won get its too complex explain normal people anyway and they are dogmatic then doesn matter what you say see mechante post and for any reason you decide later life move from buddhism and that doesn suit you identity though you still get keep all the wisdom then your family will treat you like you went through weird hippy phase for while there didncha and you never hear the end pro tip don put one these your wall jpg ",
         "-1"
        ],
        [
         "290",
         " bhenchod jpg ",
         "0"
        ],
        [
         "306",
         " india right now jpg",
         "1"
        ],
        [
         "317",
         " the govt should have only one religion says the guy who cannot stop sticking his personal religion into public politics modi 2013 jpg\n",
         "0"
        ],
        [
         "336",
         " such huge crowd jpg large easily would more than lakh ",
         "1"
        ],
        [
         "394",
         "nothing more amusing than using image from the media jpg article titled images media will never show you for those who don read telugu that second picture from newspaper reporting modi rally hyderabad ",
         "1"
        ],
        [
         "434",
         "take some notes valve this jpg really nice slardar ",
         "1"
        ],
        [
         "448",
         "what missing jpg\nand why this brilliant edit this supposed from another game like hon lol what exactly that slark supposed dolphin ",
         "1"
        ],
        [
         "456",
         "looks like lot are missing morphling just barely caught him well jpg",
         "-1"
        ],
        [
         "464",
         " see shuriken flying the center the picture but then where jpg",
         "-1"
        ],
        [
         "465",
         " what was thinking while reading the comments cant see shit jpg ",
         "-1"
        ],
        [
         "466",
         " you jpg ",
         "0"
        ],
        [
         "480",
         "vote kanaka jpg cut you ",
         "0"
        ],
        [
         "486",
         "all you good folk who voted for akiyama yukari well done oda nobuna pleased jpg however she has one demand other than that you vote for her course which you must obviously this that all glory must our adorable takebe saori png but she still freaking adorable ",
         "1"
        ],
        [
         "489",
         " has been decided jpg ",
         "0"
        ],
        [
         "508",
         "vote for nepgear jpg want see her character getting more votes than the others this franchise edit didn notice kurumi original character kantoku here google image search kurumi kantoku tbm isch the artist the same person who drew the illustration for henneko ",
         "1"
        ],
        [
         "564",
         " came came 17014 jpg ",
         "0"
        ],
        [
         "619",
         "yeah dude its completely fab here pic jpg village gujarat more pics the news ece ",
         "1"
        ],
        [
         "761",
         " alliance result leads change total bjp aap cong others awaited data from ndtv http ndtv com please vist them last updated time sun dec 2013 ist next update minutes ",
         "0"
        ],
        [
         "817",
         "this would issue these people were prosecuted under 377 and thrown jail tbn and9gctljwbsdyreogwxjxqaeakwn eauxr95fn6ylsdimxltrmsi3lh jpg jpg pride15 jpg agree that the article joke which also criminalizes heterosexual oral anal sex however practice person only charged one the individual not adult the act committed without consent yeah archaic law that needs but doesn harm anybody hence political party stance the issue irrelevant ",
         "-1"
        ],
        [
         "878",
         " 2013 utc crowds jpg mistake 0aplease leave above link unaltered suggestion tweetposter subject suggestion faq code issues ",
         "-1"
        ],
        [
         "1109",
         " you tell lie big enough and keep repeating people will eventually come believe joseph goebells jpg ",
         "0"
        ],
        [
         "1251",
         "pics the washed sphere found maldives pic jpg pic jpg thanks ltc8k6 dot net edit fix links",
         "1"
        ],
        [
         "1254",
         "malaysia french satellite find further debris jpg large edit not sure this related 122 objects recently identified french satellite ",
         "-1"
        ],
        [
         "1333",
         "here good graphic which have way verifying not sure already been posted not haven seen before shows overlay australia radar coverage and the last ping derived arc location the plane the arc goes straight through the satellite system which think already knew before someone highly motivated and with inordinate amounts free time could and stick there the various search areas and debris sightings that would super cool australia refuses confirm deny whether the plane was detected well according the trustworthy media but think either their system was down malfunctioned and they don want anyone know they did detect the airspace and are using that direct the search areas and are keeping secret for who knows why and need the doppler effect only cause cool either way can imagine that they did detect but are refusing use the info release other investigative agencies they spending boatloads money searching for this plane too and doesn make sense for them continue spending what they know incorrect also the plane was detected why would they keep that secret not like their satellite capabilities are secret don think this case the plane flying under the radar think this radar goes pretty low would have wasted enormous amount fuel and the pings probably would have cut off lot sooner think there good chance the plane passed through this region and wasn detected for whatever reason jpg",
         "1"
        ],
        [
         "1384",
         " jpg",
         "0"
        ],
        [
         "1505",
         " wtf you mean just you had create this fucking alt just come out the silent observation watching india being infested modipests this jpg article will shed some light why how this infestation happening ",
         "-1"
        ],
        [
         "1558",
         " violations here soni sori wears party cap while casting her vote booked 110414085417 jpg its only when bjp modi involved its violation fucking incompetent nincompoops couldnt anything about lakhs voters getting disenfrachised and were sheepisly saying sorry that going anything dozens booths were captured and finally was parrty that released the video that but jumping and down this non issue congress utilising the establishment nurtured for years for one final battle before its dismantled ",
         "-1"
        ],
        [
         "1637",
         "opinion polls from all chanells combined ghcaaamz4 jpg",
         "0"
        ],
        [
         "1642",
         "today chanakya have great track record getting their exit polls correct probably they are the most accurate out there proof below and they predict the best tally for bjp 291 nda 340 and the worst tally for congress upa jpg 2009 while every agency predicted nda win they correctly predicted upa win jpg 2013 delhi assembly elections only today chanakya predicted figure for aap that was closest the real results nda 340 bjp 291 bhaiyo behno come shukravaar modi sarkar ",
         "1"
        ],
        [
         "1661",
         "totally unreliable jpg large kejriwal might losing his deposit ",
         "1"
        ],
        [
         "1760",
         " jpg",
         "0"
        ],
        [
         "1790",
         "did your work involve actively whitewashing narendra modi involvement the gujrat riots and the incident general referring sites like this http www gujaratriots com total crap ",
         "-1"
        ],
        [
         "1858",
         " jpg",
         "0"
        ],
        [
         "2162",
         "does anyone what those red white flags jpg behind the seat represent ",
         "-1"
        ],
        [
         "2295",
         " look how happy they look together jpg ",
         "1"
        ],
        [
         "2378",
         " this real context mumbai war memorial resized jpg ",
         "1"
        ],
        [
         "2471",
         " yeshasvini http www yeshasvini kar nic scheme karnataka proven model for workable community healthcare system may this needs scaled national level least multiple states start with ",
         "-1"
        ],
        [
         "2928",
         " jpg",
         "0"
        ],
        [
         "2939",
         "shit journalism they literally created political news out nothing ipl auctions were costlier than the mars mission mars jpg what now ban ipl source the image mangalyaan mars orbiter mission cheaper than ipl players auction 191125 ",
         "-1"
        ],
        [
         "3006",
         " really babri kandhamahal happened pakistan furthermore his arguments are directed towards abrahamic religions since they follow central book however the dharmic religions india are not immune from religious dogmatism ram temple was destroyed babur and mosque was built top somnath temple was destroyed times mohammedans somnath temple destruction timeline gyanvapi temple jpg large whats wrong temples are rebuilt thief steals your money and you steal back are you also called thief notice how not even single muslim named how about people like abdul kalam azad again ties with their ideology dont know why abdul kalam azad being respected the muslim community these days\nback 1930 and was considered fringe element was ridiculed and accused being hindu poster boy and hindu agent etc etc edit for the marxist serpents that are lurking here can down vote all you want xxxx edit this was posted user factorialboy another thread hope this puts end this pointless debate here mere sample “sectarian” and “political” programs doordarshan telecast the past without much squeal from messrs guha and varadarajan – live telecast pope francis’ christmas message from vatican city 25th december 2013 – christian evangelical programming tamil channel podhigai – pope benedict’ mass december 2005 – islamic programs doordarshan sapthagiri – doordarshan srinagar stops telecast bible series objections muslims – nagaland baptist church platinum jubilee live doordarshan kohima 2012 – live coverage speeches sonia and rahul gandhi aicc session 2007 much more …… source guhas hypocrisy doordarshan 239880 html",
         "1"
        ],
        [
         "3075",
         "sharad pawar ncp willing support bjp government this jpg facebook post captures reaction very well ",
         "1"
        ],
        [
         "3119",
         " tit for tat jpg ",
         "0"
        ],
        [
         "3492",
         "here quick way create tables graphs for reddit create them excel take screen shot paste mspaint get there windows key run mspaint enter key save jpg bmp and upload imgur ",
         "1"
        ],
        [
         "3524",
         "our president did before his election ross obama jpg ",
         "0"
        ],
        [
         "3583",
         " casual friday 2257209 16c051f1000005dc 920 634x822 jpg ",
         "-1"
        ],
        [
         "3667",
         " thought was bit excessive that superman shield insignia now made hundreds little shields jpg but hereby withdraw objection ",
         "-1"
        ],
        [
         "3689",
         "why are some screens english and some japanese jpg jpg jpg glad how stuff doesn look torn and ragged like the vendor stuff this looks awesome love the white skins the guns too jpg scout rifle with rounds without field scout and the option for iridium can tell rounds from vendor not firefly but take ",
         "1"
        ],
        [
         "3759",
         "dat scout rifle tho mmmmmm much impact jpg",
         "1"
        ],
        [
         "3808",
         "translations armor names hunter crucible sanction custom helmet jpg carnivore match helmet jpg sanction custom gauntlets jpg carnivore match gauntlets jpg sanction custom chest jpg carnivore match chest jpg sanction custom boots jpg competitor flair jpg artificial selection cape jpg vanguard sanction six helmet jpg fear eater helmet jpg sanction six gauntlets jpg fear eater gauntlets jpg sanction six chest jpg fear eater chest jpg sanction six boots jpg fear eater boots jpg fixer cloak jpg wetwork cloak jpg titan crucible command custom helmet jpg ursus tactical helmet jpg command custom gauntlets jpg ursus tactical gauntlets jpg command custom chest jpg ursus tactical chest jpg command custom boots jpg ursus tactical boots jpg vanguard command type helmet jpg spearhead type helmet jpg command type gauntlets jpg spearhead type gauntlets jpg command type chest jpg spearhead type chest jpg command type boots jpg spearhead type boots jpg warlock vanguard apex harmonic helmet jpg unity clade helmet jpg apex harmonic gauntlets jpg unity clade gauntlets jpg apex harmonic chest jpg unity clade chest jpg apex harmonic boots jpg unity clade boots jpg wearable collider jpg fusion canister jpg ",
         "-1"
        ]
       ],
       "shape": {
        "columns": 2,
        "rows": 230
       }
      },
      "text/html": [
       "<div>\n",
       "<style scoped>\n",
       "    .dataframe tbody tr th:only-of-type {\n",
       "        vertical-align: middle;\n",
       "    }\n",
       "\n",
       "    .dataframe tbody tr th {\n",
       "        vertical-align: top;\n",
       "    }\n",
       "\n",
       "    .dataframe thead th {\n",
       "        text-align: right;\n",
       "    }\n",
       "</style>\n",
       "<table border=\"1\" class=\"dataframe\">\n",
       "  <thead>\n",
       "    <tr style=\"text-align: right;\">\n",
       "      <th></th>\n",
       "      <th>clean_comment</th>\n",
       "      <th>category</th>\n",
       "    </tr>\n",
       "  </thead>\n",
       "  <tbody>\n",
       "    <tr>\n",
       "      <th>2</th>\n",
       "      <td>seriously don say thing first all they won get...</td>\n",
       "      <td>-1</td>\n",
       "    </tr>\n",
       "    <tr>\n",
       "      <th>290</th>\n",
       "      <td>bhenchod jpg</td>\n",
       "      <td>0</td>\n",
       "    </tr>\n",
       "    <tr>\n",
       "      <th>306</th>\n",
       "      <td>india right now jpg</td>\n",
       "      <td>1</td>\n",
       "    </tr>\n",
       "    <tr>\n",
       "      <th>317</th>\n",
       "      <td>the govt should have only one religion says t...</td>\n",
       "      <td>0</td>\n",
       "    </tr>\n",
       "    <tr>\n",
       "      <th>336</th>\n",
       "      <td>such huge crowd jpg large easily would more t...</td>\n",
       "      <td>1</td>\n",
       "    </tr>\n",
       "    <tr>\n",
       "      <th>...</th>\n",
       "      <td>...</td>\n",
       "      <td>...</td>\n",
       "    </tr>\n",
       "    <tr>\n",
       "      <th>36401</th>\n",
       "      <td>larger 1000x679 version linked image out modi...</td>\n",
       "      <td>-1</td>\n",
       "    </tr>\n",
       "    <tr>\n",
       "      <th>36918</th>\n",
       "      <td>this post nothing but xenophobia against the w...</td>\n",
       "      <td>1</td>\n",
       "    </tr>\n",
       "    <tr>\n",
       "      <th>37042</th>\n",
       "      <td>surprised jpg</td>\n",
       "      <td>1</td>\n",
       "    </tr>\n",
       "    <tr>\n",
       "      <th>37067</th>\n",
       "      <td>this post nothing but xenophobia against the w...</td>\n",
       "      <td>1</td>\n",
       "    </tr>\n",
       "    <tr>\n",
       "      <th>37092</th>\n",
       "      <td>here screen cap his live telecast jpg</td>\n",
       "      <td>1</td>\n",
       "    </tr>\n",
       "  </tbody>\n",
       "</table>\n",
       "<p>230 rows × 2 columns</p>\n",
       "</div>"
      ],
      "text/plain": [
       "                                           clean_comment  category\n",
       "2      seriously don say thing first all they won get...        -1\n",
       "290                                        bhenchod jpg          0\n",
       "306                                  india right now jpg         1\n",
       "317     the govt should have only one religion says t...         0\n",
       "336     such huge crowd jpg large easily would more t...         1\n",
       "...                                                  ...       ...\n",
       "36401   larger 1000x679 version linked image out modi...        -1\n",
       "36918  this post nothing but xenophobia against the w...         1\n",
       "37042                                     surprised jpg          1\n",
       "37067  this post nothing but xenophobia against the w...         1\n",
       "37092             here screen cap his live telecast jpg          1\n",
       "\n",
       "[230 rows x 2 columns]"
      ]
     },
     "execution_count": 19,
     "metadata": {},
     "output_type": "execute_result"
    }
   ],
   "source": [
    "df.loc[df['clean_comment'].astype(str).str.contains('jpg|http', case=False, na=False)]"
   ]
  },
  {
   "cell_type": "code",
   "execution_count": 20,
   "id": "3005cebb",
   "metadata": {},
   "outputs": [],
   "source": [
    "def check_jpg(comment):\n",
    "    if isinstance(comment, str) and 'jpg' in comment.lower():\n",
    "        return 1\n",
    "    return 0\n",
    "\n",
    "df['has_jpg'] = df['clean_comment'].apply(check_jpg)"
   ]
  },
  {
   "cell_type": "code",
   "execution_count": 21,
   "id": "9de5f55f",
   "metadata": {},
   "outputs": [
    {
     "data": {
      "application/vnd.microsoft.datawrangler.viewer.v0+json": {
       "columns": [
        {
         "name": "index",
         "rawType": "int64",
         "type": "integer"
        },
        {
         "name": "clean_comment",
         "rawType": "object",
         "type": "unknown"
        },
        {
         "name": "category",
         "rawType": "int64",
         "type": "integer"
        },
        {
         "name": "has_jpg",
         "rawType": "int64",
         "type": "integer"
        }
       ],
       "ref": "cca31ce6-bc3f-4474-b998-0a456e3e76e1",
       "rows": [
        [
         "0",
         " family mormon have never tried explain them they still stare puzzled from time time like some kind strange creature nonetheless they have come admire for the patience calmness equanimity acceptance and compassion have developed all the things buddhism teaches ",
         "1",
         "0"
        ],
        [
         "1",
         "buddhism has very much lot compatible with christianity especially considering that sin and suffering are almost the same thing suffering caused wanting things shouldn want going about getting things the wrong way christian this would mean wanting things that don coincide with god will and wanting things that coincide but without the aid jesus buddhism could also seen proof god all mighty will and omnipotence certainly christians are lucky have one such christ there side but what about everyone else well many christians believe god grace salvation and buddhism god way showing grace upon others would also help study the things jesus said and see how buddha has made similar claims such rich man getting into heaven joke basically advocating that should rid ourselves material possessions fact distinctly remembered jesus making someone cry because that someone asked what achieve salvation and jesus replied with live like buddhist very very roughly translated also point out that buddha rarely spoke anything about god theory personally because knew well enough leave that jesus and mohamed who came later just remember conflict difference opinion but education can fun involving and enlightening easier teach something than prove right like intelligent design ",
         "1",
         "0"
        ],
        [
         "2",
         "seriously don say thing first all they won get its too complex explain normal people anyway and they are dogmatic then doesn matter what you say see mechante post and for any reason you decide later life move from buddhism and that doesn suit you identity though you still get keep all the wisdom then your family will treat you like you went through weird hippy phase for while there didncha and you never hear the end pro tip don put one these your wall jpg ",
         "-1",
         "1"
        ],
        [
         "3",
         "what you have learned yours and only yours what you want teach different focus the goal not the wrapping paper buddhism can passed others without word about the buddha ",
         "0",
         "0"
        ],
        [
         "4",
         "for your own benefit you may want read living buddha living christ thich nhat hanh you might find any subsequent discussions with your loved ones easier you are able articulate some the parallels that exist between buddhism and christianity don surprised they react negatively for having lost you treat them with compassion and deserved understanding although they may indeed display signs being hurt your new path properly sharing with them way that may alleviate their fear something they may perceive wrong the very least alien their beliefs may help allowing them the long run accept although not necessarily agree with your decision regardless where they end you have make your own way ",
         "1",
         "0"
        ],
        [
         "5",
         "you should all sit down together and watch the simpsons episode where lisa becomes buddhist simpsons season episode she little faith then discuss ",
         "-1",
         "0"
        ],
        [
         "6",
         " was teens when discovered zen meditation was then undiagnosed bpd being homeschooled and just gotten 56k modem with web connection where came across link zen meditation tried for couple weeks and the change was palpable felt the most profound sense peace ever felt grades immediately started going had more energy started martial arts just huge positive change all around parents asked something was wrong fundie parents when anything changes this was where naiveté kicked foolishly told them been trying meditation and really calmed down thought they happy that found something that helped but never forget what happened next mother affected this mockingly calm breathy voice she said you can pretend calm and happy all you want but without jesus you never content was that moment that any belief had christian faith all vanished completely realized that she had probably never been happy ever have never felt profoundly sorry for someone did for her that moment ",
         "1",
         "0"
        ],
        [
         "7",
         "jesus was zen meets jew ",
         "0",
         "0"
        ],
        [
         "8",
         "there are two varieties christians dogmatic that dwell words and conservative that take heart the spirit the teachings hate oversimplify things but helps this understanding you are discussing with dogmatic religious people who live the letter the law will uphill battle wish you luck you are discussing with moderates exchange idea should come fairly easily comparing contrasting also discussing parallel teachings presented differently wouldn out the ordinary they may give you relevant spiritual advice even though you are not believer their religion ",
         "-1",
         "0"
        ],
        [
         "9",
         "dont worry about trying explain yourself just meditate regularly and try hard you can more aware everything else will follow coming from someone who has been throught his situation welcome pms ",
         "1",
         "0"
        ],
        [
         "10",
         " recently told family that buddhist live the bible belt this whole ordeal involved leaving the baptist church and everything been pretty rough but those who really care about have been open and accepting they seen the good has created life and relationships with others fact there are handful christians who have lovely conversations with and that truly respect someone else suggested living buddha living christ great one read about the important dialogue between buddhists and christians also welcome you message ",
         "1",
         "0"
        ],
        [
         "11",
         " unto others you would have them unto you would good start ",
         "1",
         "0"
        ],
        [
         "12",
         "first understand that you are not anyway control how they will react always find that any subject better understood first learning the vocabulary explain what the word buddha means most people believe buddhists praise worship and follow guy named buddha christians due jesus let them know that one could both buddhist and christian with conflict the teachings and the messages jesus are indeed buddhist philosophy jesus became enlightened buddha and realized that had become annointed being christ then continue with your practice and let them work out their own issues that advice all the best ",
         "1",
         "0"
        ],
        [
         "13",
         " recently heard similar question where person asked they should introduce meditation his loved ones who had challenges coping with problems life the answer from the lama was quite interesting instead giving people advice one should focus his practice that way others will see the change and maybe even ask about personally think better keep yourself even though you must really excited about you can also keep dharma books around the house and sure people will pick them for quick browse when you are not looking learn bit about other people traditions well browsing through books they owned ",
         "1",
         "0"
        ],
        [
         "14",
         "different times different cultures same point they were trying get across jesus said god has beginning nor end buddha said mind was never born and has never died just replace the word meditation with prayer and couting the breath with the name jesus and everyone happy",
         "1",
         "0"
        ],
        [
         "15",
         "does evil include the lady pai chunked ",
         "-1",
         "0"
        ],
        [
         "16",
         "our campaign has two suns one pelor the other shamedan pelor the god all know and find bit stifling really shamedan the sun desert the burning sun who will kill you without mercy even second though shamedan brings drought and brings the fire that destroys all you own generally not very nice has race fey called desert hags who worship him and have radiant and fire resistance but they haven played nearly much part the campaign they should have ",
         "1",
         "0"
        ],
        [
         "17",
         "technically you could argue that sobek evil would represent power and also crocodiles whereas also represents fertile land also the guy could shapeshift into crocodile badass ",
         "-1",
         "0"
        ],
        [
         "18",
         " zarus ",
         "0",
         "0"
        ],
        [
         "19",
         "blood and souls for lord arioch ",
         "0",
         "0"
        ],
        [
         "20",
         " always liked vecna the one time was able use him story had blast playing the fact that was far not the most powerful deity but was one the most dangerous due his portfolio but favorite pale night who technically not deity but close enough guess most the abyssal lords and the rulers the nine hells are fairly straightforward and have ample backstory but her lack thereof just intriguing ",
         "1",
         "0"
        ],
        [
         "21",
         "though don have any good suggestions for additional deities the moment you should probably have some overlap the cavern dwelling gnolls might consider pelor the god evil blinding them with his wicked light loki has sufficiently fooled them over the years into thinking their benefactor always leading them the bountiful crops they steal from the peasantry they have statues him fat woman giving out food the starving they view the god death the god justice giving righteous end those gnolls that have served brutal conflicts point view can change everything ",
         "-1",
         "0"
        ],
        [
         "22",
         " cliche but you can wrong with cyric mean was mortal who just nabbed all when got the chance you gotta respect that ",
         "-1",
         "0"
        ],
        [
         "23",
         "zon kuthon and his sister shelyn good deity have really cool story from the pathfinder setting plus off topic pathfinder has the coolest good deity ever cayden cailean was bard that got wasted one night stumbled into the temple the star stone artifact that can turn you into deity and woke the next morning with hangover memory the night before and godly powers ",
         "1",
         "0"
        ],
        [
         "24",
         " homebrew setting the primary lawful evil deity named for friend lewie essentially has three domains tyranny law applied without mercy vengeance and community the idea being that cruel and harsh god but also recognizes that you catch more flies with honey than with vinegar thus his church often the most benevolent toward the common people day day basis the running gag that lewian churches sponsor more inner city basketball teams than any other major faith you probably want change the name but might make interesting dynamic within your setting ",
         "-1",
         "0"
        ],
        [
         "25",
         "his name shall lump wherever lumps are there warts tree burls breasts humpback whales ",
         "0",
         "0"
        ],
        [
         "26",
         "for one campaign pretty much just snatched the chaos god nurgle lord plague from the whfb wh40k universe renamed him narghull was nar ghull can remember random apostrophes are always nice though the campaign revolved around his cult trying wake the god from sleep that had lasted 1000 years but sadly stalled very lazy this was back was never meant encountered directly meaning never worked out any stats anything basically works spread plague and other diseases and pretty damn evil think ",
         "-1",
         "0"
        ],
        [
         "27",
         "demogorgon because fuck you and your shit god ",
         "-1",
         "0"
        ],
        [
         "28",
         "you want badasss evil gods you want real gods then choose from this list there plenty evil cthulhu mythos ",
         "-1",
         "0"
        ],
        [
         "29",
         "pelor the burning hate the best evil god ",
         "-1",
         "0"
        ],
        [
         "30",
         "fyi the traditional chtonic deity for magic for the romans least was the goddess hecate ",
         "1",
         "0"
        ],
        [
         "31",
         " far evil goes big fan shar from the forgotten realms setting the god ultimate despair loss and suffering you know god evil when followers don even bother asking for small boons but instead invoke suffering themselves and others hopes that those events will enough prevent the god from needing get involved personally bringing suffering into the world shar isn one those pansy goddesses evil where you might get nod appreciation for sacrifice with shar you better kill somebody damn near ever day and you get nothing and like with check out the dogma here ",
         "-1",
         "0"
        ],
        [
         "32",
         " like the idea prometheus giving magic the pcs however think that prometheus should more like demi god and that the reason why gives the magic mortals prometheus could jealous the fact that the gods have all the powers and they granted him only half status upon his creation thus his revenge giving humanity order turn the tides power among deities and mortals furthermore perhaps the repercussion prometheus feels from his action being dragged the underworld cerberus making him seem less than deity like and more mortal inhuman order face judgment from egyptian goddess morals virtue and judge the dead ",
         "1",
         "0"
        ],
        [
         "33",
         "pelor the burning hate also hextor boss god tyranny and conquest always fun think one the books there god lawyers too ",
         "-1",
         "0"
        ],
        [
         "34",
         "wee jas lawful neutral god death magic and necromancy not evil god but perfect representation the inevitable things which mortals fear while other evil gods make plans which may thwarted wee jas merely waits all shall come her the end also playing cleric her fabulous fun ",
         "1",
         "0"
        ],
        [
         "35",
         "zen master bassui said when the functioning analytical consciousness destroyed feelings are purified this referred the pure land the west you truly want know the meaning being born the pure land you must first know the master who born this land the physical body has never from its inception been the true body but rather temporary formation the five aggregates after the four elements disperse what remains called the self the self originally empty what that born the pure land there master born the pure land what that seeks this land bliss just extinguish the ever seeking mind rid thoughts and attachment form and the body consisting the four elements will have individual self when there individual mind the nature mind and there aspect disorder ",
         "1",
         "0"
        ],
        [
         "36",
         "pure land other power opposed the usual self power taught most buddhist schools though the pure land here and now and not some other dimension the afterlife ",
         "1",
         "0"
        ],
        [
         "37",
         "there are many flavours buddhism pure land ideas are not common all them however the important thing realize doesn really matter that the big difference compared the abrahamic religions buddhism not dogmatic the sense bunch things that must taken literally else you are non believer sinner whatever maybe pure land ideas work for you great maybe they don great what works for you works for you what doesn work useless you the historical buddha himself taught dramatically different styles suit his audience parables and metaphors are just that the point where they take you not literally believing them literally and physically true zen koans are good example this very purely distilled most are the form stories but not stories you are believe physically happened you are reading history book that entirely irrelevant what the story does you that the point you are wondering did this really happen does this place really exist you are missing that point also worth noting that most things are about psychological phenomenon not physical phenomenon personally find this makes buddhist cosmology much easier understand than considering competitor physical cosmology they not conflict they just about different cosmos ",
         "1",
         "0"
        ],
        [
         "38",
         " going try comment this simply can gets metaphysical and some may even say supernatural but hope you can try maintain open mind enough for help with your understanding everything that physical everything that exists the universe and beyond are created the power the mind exercised through consciousness mara created the samsara worlds planes dimensions that may experience joy sadness love heartbreaks etc this was done through his her its focus the mind and streams consciousness began attracted these worlds planes dimensions and begin develop craving for existence and thus begins the cycle rebirth the pure lands buddhism were created the focus the mind amitabha buddha way help individuals attain enlightenment their own pace amitabha buddha understood that the attraction emotions sex love and existence can overwhelming for normal individuals overcome within one lifetime 100 years average for human beings other beings much shorter and yet others much longer created the pure lands the west place refuge and practice for those who call upon his name sincerely this place not metaphorical state mind while these individuals are earth for lack better word real though not necessarily physical the way feel physical things via the electromagnetic repelling force electrons this world certain laws physics are applicable that world land plane dimension whatchamacallit certain laws physics not apply and yet newer laws superphysics would also the rule there that not the law our world now having been carried this land doesn mean that the individuals are guaranteed enlightenment first they still need cultivate themselves while there enlightenment not given dependant every single individual consciousness efforts shed the fetters samsara anger ignorance and jealousy and embrace the noble truths they may choose rejoin the samsaric worlds again and back into the cycle rebirth but least they have the option stay and cultivate themselves the pure land the west that would the main difference between the abrahamic idea heaven against the amitabha buddha pure lands the west hope this helps ",
         "1",
         "0"
        ],
        [
         "39",
         " think your characterization pure land isn that far off there reason not that popular among westerners odd abandon christianity judaism and take pure land because first impressions buddhism was that was devoid dogma but now seems much leap faith the abrahamic religions least the pure land sect most forms buddhism have some sort supernatural element some orthodox believers might deny that just like some christians might attempt make scientific arguments for the world being 6000 years old the very least you have rebirth and different planes that includes devas zen seems have the least reverence for dogma which why popular the west the other western strategy assume things are meaningful figuratively and not literally but yeah buddhism religion the end the day for most its followers ",
         "1",
         "0"
        ],
        [
         "40",
         "most religions have dogmatic orthodox well esoteric philosophic side the christian heaven can seen palace the clouds state mind rebirth buddhism can seen fact just superstition left over from other beliefs you interpret and understand you see fit like think about various religions talking about the same thing using different words and yes cherry pick what believe but honestly and very carefully think better than taking everything religion says and rejecting everything doesn say there must hundred different ways talk about enlightenment heaven pure land individuation alchemy rites passage education trials meditation the tricky part that what describes can easily explained words and most importantly has understood which different than just knowing reading about the pure land real place state mind doubt real place but sure some will believe buddhism has some dogma but not nearly much eastern religions ",
         "1",
         "0"
        ],
        [
         "41",
         "you won find one answer your question but the pure land state mind perspective reality not separate place let quote thich nhat hanh human beings our deepest desire find environment which secure and where there love and understanding all want live such environment you live surroundings where you feel there security understanding and love and where people have the capacity transform their suffering fear and attachment then you live the pure land from finding our true home this isn leap faith all because you have already been the pure land but momentarily every time you bring the buddha mind fully then you are said the pure land imagine because you enter that state some degree this not matter faith but expanding upon what you know joyful experience quite different the abrahamic religions concept heaven which eschatological reality rather than gnostic one will add that there course are some who believe the pure land totally separate paradise however there are positive ways understanding this when the state mind another rebirth will seem like such foreign reality that may well different place entirely ",
         "1",
         "0"
        ],
        [
         "42",
         " first impressions buddhism was that was devoid dogma isn good thing about buddhism least for outsider that much easier pick and choose what parts you not want use see dogma kind environment habitat for the profound and useful ideas develop all religions have something useful buddhist religions and not just one homogeneous buddhism just seem have something that more relevant and powerful the context our culture ",
         "1",
         "0"
        ],
        [
         "43",
         "from limited knowledge the pure land not paradise but place contemplation stepping off point where you are given the knowledge leave the cycle suffering and rebirth anything more akin the now defunct catholic idea purgatory than actual heaven ",
         "1",
         "0"
        ],
        [
         "44",
         " response your question about how amitabha created the pure land this quote from the article pure land buddhism wikipedia the longer sukhāvatīvyūha sūtra the buddha begins describing his attendant ānanda past life the buddha amitābha states that past life amitābha was once king who renounced his kingdom and became bodhisattva monk named dharmākara dharma storehouse under the guidance the buddha lokeśvararāja world sovereign king innumerable buddha lands throughout the ten directions were revealed him after meditating for five eons bodhisattva then made great series vows save all sentient beings and through his great merit created the realm sukhāvatī ultimate bliss this land sukhāvatī would later come known the pure land chinese translation important remember that buddhism has been around for thousands years and that for long time buddhists didn have telescopes big machines scan the brain with his holiness the dalai lama himself has said that the discoveries science and the teachings buddhism contradict then the discoveries science are correct this video tgv1gwvrz one the major teachings the buddha was test out each his teachings oneself order see they were true rather than taking his word faith without proof however course just man who has seen mountain some remote region where one has not traveled may believed until the distance that region crossed might have some sort faith buddhist teachings since the people doing the teachings have often devoted their whole lives the teachings the buddha ",
         "1",
         "0"
        ],
        [
         "45",
         "exactly the song was jamming when made this ",
         "1",
         "0"
        ],
        [
         "46",
         " nam indeed ",
         "0",
         "0"
        ],
        [
         "47",
         " jbdbx28pxga",
         "0",
         "0"
        ],
        [
         "48",
         "maybe they ate dosa who knows ",
         "0",
         "0"
        ],
        [
         "49",
         "according this nbc chicago article walsh holds ladies week 169189026 html here what they have say about joe walsh unless you’ conservative suburban white male over rep joe walsh tea party ill has said something offend you walsh’ rhetoric has been caricature the image republicans party devoted only old white guys ",
         "-1",
         "0"
        ]
       ],
       "shape": {
        "columns": 3,
        "rows": 37249
       }
      },
      "text/html": [
       "<div>\n",
       "<style scoped>\n",
       "    .dataframe tbody tr th:only-of-type {\n",
       "        vertical-align: middle;\n",
       "    }\n",
       "\n",
       "    .dataframe tbody tr th {\n",
       "        vertical-align: top;\n",
       "    }\n",
       "\n",
       "    .dataframe thead th {\n",
       "        text-align: right;\n",
       "    }\n",
       "</style>\n",
       "<table border=\"1\" class=\"dataframe\">\n",
       "  <thead>\n",
       "    <tr style=\"text-align: right;\">\n",
       "      <th></th>\n",
       "      <th>clean_comment</th>\n",
       "      <th>category</th>\n",
       "      <th>has_jpg</th>\n",
       "    </tr>\n",
       "  </thead>\n",
       "  <tbody>\n",
       "    <tr>\n",
       "      <th>0</th>\n",
       "      <td>family mormon have never tried explain them t...</td>\n",
       "      <td>1</td>\n",
       "      <td>0</td>\n",
       "    </tr>\n",
       "    <tr>\n",
       "      <th>1</th>\n",
       "      <td>buddhism has very much lot compatible with chr...</td>\n",
       "      <td>1</td>\n",
       "      <td>0</td>\n",
       "    </tr>\n",
       "    <tr>\n",
       "      <th>2</th>\n",
       "      <td>seriously don say thing first all they won get...</td>\n",
       "      <td>-1</td>\n",
       "      <td>1</td>\n",
       "    </tr>\n",
       "    <tr>\n",
       "      <th>3</th>\n",
       "      <td>what you have learned yours and only yours wha...</td>\n",
       "      <td>0</td>\n",
       "      <td>0</td>\n",
       "    </tr>\n",
       "    <tr>\n",
       "      <th>4</th>\n",
       "      <td>for your own benefit you may want read living ...</td>\n",
       "      <td>1</td>\n",
       "      <td>0</td>\n",
       "    </tr>\n",
       "    <tr>\n",
       "      <th>...</th>\n",
       "      <td>...</td>\n",
       "      <td>...</td>\n",
       "      <td>...</td>\n",
       "    </tr>\n",
       "    <tr>\n",
       "      <th>37244</th>\n",
       "      <td>jesus</td>\n",
       "      <td>0</td>\n",
       "      <td>0</td>\n",
       "    </tr>\n",
       "    <tr>\n",
       "      <th>37245</th>\n",
       "      <td>kya bhai pure saal chutiya banaya modi aur jab...</td>\n",
       "      <td>1</td>\n",
       "      <td>0</td>\n",
       "    </tr>\n",
       "    <tr>\n",
       "      <th>37246</th>\n",
       "      <td>downvote karna tha par upvote hogaya</td>\n",
       "      <td>0</td>\n",
       "      <td>0</td>\n",
       "    </tr>\n",
       "    <tr>\n",
       "      <th>37247</th>\n",
       "      <td>haha nice</td>\n",
       "      <td>1</td>\n",
       "      <td>0</td>\n",
       "    </tr>\n",
       "    <tr>\n",
       "      <th>37248</th>\n",
       "      <td>facebook itself now working bjp’ cell</td>\n",
       "      <td>0</td>\n",
       "      <td>0</td>\n",
       "    </tr>\n",
       "  </tbody>\n",
       "</table>\n",
       "<p>37249 rows × 3 columns</p>\n",
       "</div>"
      ],
      "text/plain": [
       "                                           clean_comment  category  has_jpg\n",
       "0       family mormon have never tried explain them t...         1        0\n",
       "1      buddhism has very much lot compatible with chr...         1        0\n",
       "2      seriously don say thing first all they won get...        -1        1\n",
       "3      what you have learned yours and only yours wha...         0        0\n",
       "4      for your own benefit you may want read living ...         1        0\n",
       "...                                                  ...       ...      ...\n",
       "37244                                              jesus         0        0\n",
       "37245  kya bhai pure saal chutiya banaya modi aur jab...         1        0\n",
       "37246              downvote karna tha par upvote hogaya          0        0\n",
       "37247                                         haha nice          1        0\n",
       "37248             facebook itself now working bjp’ cell          0        0\n",
       "\n",
       "[37249 rows x 3 columns]"
      ]
     },
     "execution_count": 21,
     "metadata": {},
     "output_type": "execute_result"
    }
   ],
   "source": [
    "df"
   ]
  },
  {
   "cell_type": "code",
   "execution_count": 22,
   "id": "72b3e2c7",
   "metadata": {},
   "outputs": [
    {
     "data": {
      "text/plain": [
       "np.int64(100)"
      ]
     },
     "execution_count": 22,
     "metadata": {},
     "output_type": "execute_result"
    }
   ],
   "source": [
    "df['clean_comment'].isna().sum()"
   ]
  },
  {
   "cell_type": "code",
   "execution_count": 23,
   "id": "8194a39c",
   "metadata": {},
   "outputs": [
    {
     "data": {
      "application/vnd.microsoft.datawrangler.viewer.v0+json": {
       "columns": [
        {
         "name": "category",
         "rawType": "int64",
         "type": "integer"
        },
        {
         "name": "count",
         "rawType": "int64",
         "type": "integer"
        }
       ],
       "ref": "b6d35864-eb41-4330-be6b-aa23985c45cb",
       "rows": [
        [
         "0",
         "100"
        ]
       ],
       "shape": {
        "columns": 1,
        "rows": 1
       }
      },
      "text/plain": [
       "category\n",
       "0    100\n",
       "Name: count, dtype: int64"
      ]
     },
     "execution_count": 23,
     "metadata": {},
     "output_type": "execute_result"
    }
   ],
   "source": [
    "df[df['clean_comment'].isna()]['category'].value_counts()"
   ]
  },
  {
   "cell_type": "code",
   "execution_count": 24,
   "id": "7716dbbb",
   "metadata": {},
   "outputs": [],
   "source": [
    "df.dropna(inplace=True)"
   ]
  },
  {
   "cell_type": "code",
   "execution_count": 25,
   "id": "729ac567",
   "metadata": {},
   "outputs": [
    {
     "data": {
      "text/plain": [
       "350.0"
      ]
     },
     "execution_count": 25,
     "metadata": {},
     "output_type": "execute_result"
    }
   ],
   "source": [
    "float(df.duplicated().sum())"
   ]
  },
  {
   "cell_type": "code",
   "execution_count": 26,
   "id": "e124ae31",
   "metadata": {},
   "outputs": [
    {
     "data": {
      "application/vnd.microsoft.datawrangler.viewer.v0+json": {
       "columns": [
        {
         "name": "index",
         "rawType": "int64",
         "type": "integer"
        },
        {
         "name": "clean_comment",
         "rawType": "object",
         "type": "string"
        },
        {
         "name": "category",
         "rawType": "int64",
         "type": "integer"
        },
        {
         "name": "has_jpg",
         "rawType": "int64",
         "type": "integer"
        }
       ],
       "ref": "af8410bf-0c25-4818-a385-399a78e4744e",
       "rows": [
        [
         "375",
         " ",
         "0",
         "0"
        ],
        [
         "392",
         " ",
         "0",
         "0"
        ],
        [
         "617",
         " aurum mom ",
         "0",
         "0"
        ],
        [
         "651",
         " ",
         "0",
         "0"
        ],
        [
         "1222",
         " ",
         "0",
         "0"
        ],
        [
         "1528",
         " ",
         "0",
         "0"
        ],
        [
         "1613",
         " attention please keep mind that the this thread has chosen mark this post with the eddiquette enforced tag therefore any comments that not follow reddiquette will removed please see this page learn more about the tag you see others posting comments that violate this tag please report them the mods thank you for contributing and cooperating bot automoderator comments q11pu what automoderator and this action was performed automatically please contact the moderators this subreddit message compose 2fr 2findia you have any questions concerns ",
         "1",
         "0"
        ],
        [
         "1760",
         " jpg",
         "0",
         "1"
        ],
        [
         "1835",
         " ",
         "0",
         "0"
        ],
        [
         "1858",
         " jpg",
         "0",
         "1"
        ],
        [
         "1900",
         "why ",
         "0",
         "0"
        ],
        [
         "1975",
         " ",
         "0",
         "0"
        ],
        [
         "2339",
         " ",
         "0",
         "0"
        ],
        [
         "2446",
         " ",
         "0",
         "0"
        ],
        [
         "2588",
         " ",
         "0",
         "0"
        ],
        [
         "2780",
         " ",
         "0",
         "0"
        ],
        [
         "2796",
         " ",
         "0",
         "0"
        ],
        [
         "2924",
         "congrats isro ",
         "0",
         "0"
        ],
        [
         "2928",
         " jpg",
         "0",
         "1"
        ],
        [
         "3252",
         " ",
         "0",
         "0"
        ],
        [
         "3448",
         "hypocrisy thy name india ",
         "0",
         "0"
        ],
        [
         "3544",
         "enhance ",
         "0",
         "0"
        ],
        [
         "3550",
         "enhance ",
         "0",
         "0"
        ],
        [
         "3617",
         " ",
         "0",
         "0"
        ],
        [
         "3649",
         " ",
         "0",
         "0"
        ],
        [
         "3939",
         " ",
         "0",
         "0"
        ],
        [
         "3987",
         " ",
         "0",
         "0"
        ],
        [
         "4219",
         " jpg",
         "0",
         "1"
        ],
        [
         "4396",
         " ",
         "0",
         "0"
        ],
        [
         "4415",
         " ",
         "0",
         "0"
        ],
        [
         "4417",
         " ",
         "0",
         "0"
        ],
        [
         "4431",
         " ",
         "0",
         "0"
        ],
        [
         "4453",
         "yeah ",
         "0",
         "0"
        ],
        [
         "4632",
         "excellent post ",
         "1",
         "0"
        ],
        [
         "4786",
         " ",
         "0",
         "0"
        ],
        [
         "6778",
         "looks cold ",
         "-1",
         "0"
        ],
        [
         "7420",
         "keep the good work ",
         "1",
         "0"
        ],
        [
         "7685",
         " need strong national party keep the ever expanding bjp check last checked congress was the strong national that needed checked for corruption and abuse power",
         "1",
         "0"
        ],
        [
         "7713",
         " fuck ",
         "-1",
         "0"
        ],
        [
         "7857",
         "thanks obama ",
         "1",
         "0"
        ],
        [
         "8046",
         " ",
         "0",
         "0"
        ],
        [
         "8129",
         "jai maharashtra ",
         "0",
         "0"
        ],
        [
         "8179",
         " mildlyinteresting",
         "0",
         "0"
        ],
        [
         "9218",
         " modi",
         "0",
         "0"
        ],
        [
         "9297",
         " happening ",
         "0",
         "0"
        ],
        [
         "10258",
         "lol",
         "1",
         "0"
        ],
        [
         "10323",
         " ",
         "0",
         "0"
        ],
        [
         "10597",
         " have read each and every comment this thread have been reading for the past hours but still you guys have failed convince that its bad move agree the implementation extremely sloppy far but the mere fact that all that money unaccounted for now the system black white now but still its the system now will give boost the country economy the long run prove wrong this point ",
         "-1",
         "0"
        ],
        [
         "10618",
         " ",
         "0",
         "0"
        ],
        [
         "10621",
         " ",
         "0",
         "0"
        ]
       ],
       "shape": {
        "columns": 3,
        "rows": 350
       }
      },
      "text/html": [
       "<div>\n",
       "<style scoped>\n",
       "    .dataframe tbody tr th:only-of-type {\n",
       "        vertical-align: middle;\n",
       "    }\n",
       "\n",
       "    .dataframe tbody tr th {\n",
       "        vertical-align: top;\n",
       "    }\n",
       "\n",
       "    .dataframe thead th {\n",
       "        text-align: right;\n",
       "    }\n",
       "</style>\n",
       "<table border=\"1\" class=\"dataframe\">\n",
       "  <thead>\n",
       "    <tr style=\"text-align: right;\">\n",
       "      <th></th>\n",
       "      <th>clean_comment</th>\n",
       "      <th>category</th>\n",
       "      <th>has_jpg</th>\n",
       "    </tr>\n",
       "  </thead>\n",
       "  <tbody>\n",
       "    <tr>\n",
       "      <th>375</th>\n",
       "      <td></td>\n",
       "      <td>0</td>\n",
       "      <td>0</td>\n",
       "    </tr>\n",
       "    <tr>\n",
       "      <th>392</th>\n",
       "      <td></td>\n",
       "      <td>0</td>\n",
       "      <td>0</td>\n",
       "    </tr>\n",
       "    <tr>\n",
       "      <th>617</th>\n",
       "      <td>aurum mom</td>\n",
       "      <td>0</td>\n",
       "      <td>0</td>\n",
       "    </tr>\n",
       "    <tr>\n",
       "      <th>651</th>\n",
       "      <td></td>\n",
       "      <td>0</td>\n",
       "      <td>0</td>\n",
       "    </tr>\n",
       "    <tr>\n",
       "      <th>1222</th>\n",
       "      <td></td>\n",
       "      <td>0</td>\n",
       "      <td>0</td>\n",
       "    </tr>\n",
       "    <tr>\n",
       "      <th>...</th>\n",
       "      <td>...</td>\n",
       "      <td>...</td>\n",
       "      <td>...</td>\n",
       "    </tr>\n",
       "    <tr>\n",
       "      <th>36915</th>\n",
       "      <td>who won</td>\n",
       "      <td>0</td>\n",
       "      <td>0</td>\n",
       "    </tr>\n",
       "    <tr>\n",
       "      <th>37044</th>\n",
       "      <td></td>\n",
       "      <td>0</td>\n",
       "      <td>0</td>\n",
       "    </tr>\n",
       "    <tr>\n",
       "      <th>37125</th>\n",
       "      <td>hari</td>\n",
       "      <td>0</td>\n",
       "      <td>0</td>\n",
       "    </tr>\n",
       "    <tr>\n",
       "      <th>37158</th>\n",
       "      <td>top kek</td>\n",
       "      <td>1</td>\n",
       "      <td>0</td>\n",
       "    </tr>\n",
       "    <tr>\n",
       "      <th>37234</th>\n",
       "      <td>this part series minute videos focusing each d...</td>\n",
       "      <td>1</td>\n",
       "      <td>0</td>\n",
       "    </tr>\n",
       "  </tbody>\n",
       "</table>\n",
       "<p>350 rows × 3 columns</p>\n",
       "</div>"
      ],
      "text/plain": [
       "                                           clean_comment  category  has_jpg\n",
       "375                                                              0        0\n",
       "392                                                              0        0\n",
       "617                                           aurum mom          0        0\n",
       "651                                                              0        0\n",
       "1222                                                             0        0\n",
       "...                                                  ...       ...      ...\n",
       "36915                                           who won          0        0\n",
       "37044                                                            0        0\n",
       "37125                                              hari          0        0\n",
       "37158                                           top kek          1        0\n",
       "37234  this part series minute videos focusing each d...         1        0\n",
       "\n",
       "[350 rows x 3 columns]"
      ]
     },
     "execution_count": 26,
     "metadata": {},
     "output_type": "execute_result"
    }
   ],
   "source": [
    "df[df.duplicated()]"
   ]
  },
  {
   "cell_type": "code",
   "execution_count": 27,
   "id": "3c5936cb",
   "metadata": {},
   "outputs": [],
   "source": [
    "df.drop_duplicates(inplace=True)"
   ]
  },
  {
   "cell_type": "code",
   "execution_count": 28,
   "id": "f7c5e7c2",
   "metadata": {},
   "outputs": [
    {
     "data": {
      "application/vnd.microsoft.datawrangler.viewer.v0+json": {
       "columns": [
        {
         "name": "index",
         "rawType": "int64",
         "type": "integer"
        },
        {
         "name": "clean_comment",
         "rawType": "object",
         "type": "string"
        },
        {
         "name": "category",
         "rawType": "int64",
         "type": "integer"
        },
        {
         "name": "has_jpg",
         "rawType": "int64",
         "type": "integer"
        }
       ],
       "ref": "6cdadeef-6fd9-4e11-85ef-ae537ec9b3bc",
       "rows": [
        [
         "181",
         " ",
         "0",
         "0"
        ],
        [
         "4432",
         "\n",
         "0",
         "0"
        ],
        [
         "10592",
         "    ",
         "0",
         "0"
        ],
        [
         "16173",
         "  ",
         "0",
         "0"
        ],
        [
         "32149",
         "\n                    ",
         "0",
         "0"
        ],
        [
         "34959",
         "   ",
         "0",
         "0"
        ]
       ],
       "shape": {
        "columns": 3,
        "rows": 6
       }
      },
      "text/html": [
       "<div>\n",
       "<style scoped>\n",
       "    .dataframe tbody tr th:only-of-type {\n",
       "        vertical-align: middle;\n",
       "    }\n",
       "\n",
       "    .dataframe tbody tr th {\n",
       "        vertical-align: top;\n",
       "    }\n",
       "\n",
       "    .dataframe thead th {\n",
       "        text-align: right;\n",
       "    }\n",
       "</style>\n",
       "<table border=\"1\" class=\"dataframe\">\n",
       "  <thead>\n",
       "    <tr style=\"text-align: right;\">\n",
       "      <th></th>\n",
       "      <th>clean_comment</th>\n",
       "      <th>category</th>\n",
       "      <th>has_jpg</th>\n",
       "    </tr>\n",
       "  </thead>\n",
       "  <tbody>\n",
       "    <tr>\n",
       "      <th>181</th>\n",
       "      <td></td>\n",
       "      <td>0</td>\n",
       "      <td>0</td>\n",
       "    </tr>\n",
       "    <tr>\n",
       "      <th>4432</th>\n",
       "      <td>\\n</td>\n",
       "      <td>0</td>\n",
       "      <td>0</td>\n",
       "    </tr>\n",
       "    <tr>\n",
       "      <th>10592</th>\n",
       "      <td></td>\n",
       "      <td>0</td>\n",
       "      <td>0</td>\n",
       "    </tr>\n",
       "    <tr>\n",
       "      <th>16173</th>\n",
       "      <td></td>\n",
       "      <td>0</td>\n",
       "      <td>0</td>\n",
       "    </tr>\n",
       "    <tr>\n",
       "      <th>32149</th>\n",
       "      <td>\\n</td>\n",
       "      <td>0</td>\n",
       "      <td>0</td>\n",
       "    </tr>\n",
       "    <tr>\n",
       "      <th>34959</th>\n",
       "      <td></td>\n",
       "      <td>0</td>\n",
       "      <td>0</td>\n",
       "    </tr>\n",
       "  </tbody>\n",
       "</table>\n",
       "</div>"
      ],
      "text/plain": [
       "                clean_comment  category  has_jpg\n",
       "181                                   0        0\n",
       "4432                       \\n         0        0\n",
       "10592                                 0        0\n",
       "16173                                 0        0\n",
       "32149  \\n                             0        0\n",
       "34959                                 0        0"
      ]
     },
     "execution_count": 28,
     "metadata": {},
     "output_type": "execute_result"
    }
   ],
   "source": [
    "df[df['clean_comment'].str.strip()=='']"
   ]
  },
  {
   "cell_type": "code",
   "execution_count": 29,
   "id": "c6ad3be0",
   "metadata": {},
   "outputs": [],
   "source": [
    "df=df[~(df['clean_comment'].str.strip()=='')]"
   ]
  },
  {
   "cell_type": "code",
   "execution_count": null,
   "id": "cc790b95",
   "metadata": {},
   "outputs": [
    {
     "name": "stderr",
     "output_type": "stream",
     "text": [
      "/var/folders/kh/4f4bk94j1d36fl9w_7g2nhdm0000gn/T/ipykernel_14145/980075517.py:1: SettingWithCopyWarning: \n",
      "A value is trying to be set on a copy of a slice from a DataFrame.\n",
      "Try using .loc[row_indexer,col_indexer] = value instead\n",
      "\n",
      "See the caveats in the documentation: https://pandas.pydata.org/pandas-docs/stable/user_guide/indexing.html#returning-a-view-versus-a-copy\n",
      "  df['clean_comment']=df['clean_comment'].str.lower()\n"
     ]
    }
   ],
   "source": [
    "df['clean_comment']=df['clean_comment'].str.lower()"
   ]
  },
  {
   "cell_type": "code",
   "execution_count": null,
   "id": "5489c5be",
   "metadata": {},
   "outputs": [
    {
     "data": {
      "application/vnd.microsoft.datawrangler.viewer.v0+json": {
       "columns": [
        {
         "name": "index",
         "rawType": "int64",
         "type": "integer"
        },
        {
         "name": "clean_comment",
         "rawType": "object",
         "type": "string"
        }
       ],
       "ref": "166a202b-aa3b-435c-91d1-29a165c83098",
       "rows": [
        [
         "0",
         " family mormon have never tried explain them they still stare puzzled from time time like some kind strange creature nonetheless they have come admire for the patience calmness equanimity acceptance and compassion have developed all the things buddhism teaches "
        ],
        [
         "1",
         "buddhism has very much lot compatible with christianity especially considering that sin and suffering are almost the same thing suffering caused wanting things shouldn want going about getting things the wrong way christian this would mean wanting things that don coincide with god will and wanting things that coincide but without the aid jesus buddhism could also seen proof god all mighty will and omnipotence certainly christians are lucky have one such christ there side but what about everyone else well many christians believe god grace salvation and buddhism god way showing grace upon others would also help study the things jesus said and see how buddha has made similar claims such rich man getting into heaven joke basically advocating that should rid ourselves material possessions fact distinctly remembered jesus making someone cry because that someone asked what achieve salvation and jesus replied with live like buddhist very very roughly translated also point out that buddha rarely spoke anything about god theory personally because knew well enough leave that jesus and mohamed who came later just remember conflict difference opinion but education can fun involving and enlightening easier teach something than prove right like intelligent design "
        ],
        [
         "2",
         "seriously don say thing first all they won get its too complex explain normal people anyway and they are dogmatic then doesn matter what you say see mechante post and for any reason you decide later life move from buddhism and that doesn suit you identity though you still get keep all the wisdom then your family will treat you like you went through weird hippy phase for while there didncha and you never hear the end pro tip don put one these your wall jpg "
        ],
        [
         "3",
         "what you have learned yours and only yours what you want teach different focus the goal not the wrapping paper buddhism can passed others without word about the buddha "
        ],
        [
         "4",
         "for your own benefit you may want read living buddha living christ thich nhat hanh you might find any subsequent discussions with your loved ones easier you are able articulate some the parallels that exist between buddhism and christianity don surprised they react negatively for having lost you treat them with compassion and deserved understanding although they may indeed display signs being hurt your new path properly sharing with them way that may alleviate their fear something they may perceive wrong the very least alien their beliefs may help allowing them the long run accept although not necessarily agree with your decision regardless where they end you have make your own way "
        ],
        [
         "5",
         "you should all sit down together and watch the simpsons episode where lisa becomes buddhist simpsons season episode she little faith then discuss "
        ],
        [
         "6",
         " was teens when discovered zen meditation was then undiagnosed bpd being homeschooled and just gotten 56k modem with web connection where came across link zen meditation tried for couple weeks and the change was palpable felt the most profound sense peace ever felt grades immediately started going had more energy started martial arts just huge positive change all around parents asked something was wrong fundie parents when anything changes this was where naiveté kicked foolishly told them been trying meditation and really calmed down thought they happy that found something that helped but never forget what happened next mother affected this mockingly calm breathy voice she said you can pretend calm and happy all you want but without jesus you never content was that moment that any belief had christian faith all vanished completely realized that she had probably never been happy ever have never felt profoundly sorry for someone did for her that moment "
        ],
        [
         "7",
         "jesus was zen meets jew "
        ],
        [
         "8",
         "there are two varieties christians dogmatic that dwell words and conservative that take heart the spirit the teachings hate oversimplify things but helps this understanding you are discussing with dogmatic religious people who live the letter the law will uphill battle wish you luck you are discussing with moderates exchange idea should come fairly easily comparing contrasting also discussing parallel teachings presented differently wouldn out the ordinary they may give you relevant spiritual advice even though you are not believer their religion "
        ],
        [
         "9",
         "dont worry about trying explain yourself just meditate regularly and try hard you can more aware everything else will follow coming from someone who has been throught his situation welcome pms "
        ],
        [
         "10",
         " recently told family that buddhist live the bible belt this whole ordeal involved leaving the baptist church and everything been pretty rough but those who really care about have been open and accepting they seen the good has created life and relationships with others fact there are handful christians who have lovely conversations with and that truly respect someone else suggested living buddha living christ great one read about the important dialogue between buddhists and christians also welcome you message "
        ],
        [
         "11",
         " unto others you would have them unto you would good start "
        ],
        [
         "12",
         "first understand that you are not anyway control how they will react always find that any subject better understood first learning the vocabulary explain what the word buddha means most people believe buddhists praise worship and follow guy named buddha christians due jesus let them know that one could both buddhist and christian with conflict the teachings and the messages jesus are indeed buddhist philosophy jesus became enlightened buddha and realized that had become annointed being christ then continue with your practice and let them work out their own issues that advice all the best "
        ],
        [
         "13",
         " recently heard similar question where person asked they should introduce meditation his loved ones who had challenges coping with problems life the answer from the lama was quite interesting instead giving people advice one should focus his practice that way others will see the change and maybe even ask about personally think better keep yourself even though you must really excited about you can also keep dharma books around the house and sure people will pick them for quick browse when you are not looking learn bit about other people traditions well browsing through books they owned "
        ],
        [
         "14",
         "different times different cultures same point they were trying get across jesus said god has beginning nor end buddha said mind was never born and has never died just replace the word meditation with prayer and couting the breath with the name jesus and everyone happy"
        ],
        [
         "15",
         "does evil include the lady pai chunked "
        ],
        [
         "16",
         "our campaign has two suns one pelor the other shamedan pelor the god all know and find bit stifling really shamedan the sun desert the burning sun who will kill you without mercy even second though shamedan brings drought and brings the fire that destroys all you own generally not very nice has race fey called desert hags who worship him and have radiant and fire resistance but they haven played nearly much part the campaign they should have "
        ],
        [
         "17",
         "technically you could argue that sobek evil would represent power and also crocodiles whereas also represents fertile land also the guy could shapeshift into crocodile badass "
        ],
        [
         "18",
         " zarus "
        ],
        [
         "19",
         "blood and souls for lord arioch "
        ],
        [
         "20",
         " always liked vecna the one time was able use him story had blast playing the fact that was far not the most powerful deity but was one the most dangerous due his portfolio but favorite pale night who technically not deity but close enough guess most the abyssal lords and the rulers the nine hells are fairly straightforward and have ample backstory but her lack thereof just intriguing "
        ],
        [
         "21",
         "though don have any good suggestions for additional deities the moment you should probably have some overlap the cavern dwelling gnolls might consider pelor the god evil blinding them with his wicked light loki has sufficiently fooled them over the years into thinking their benefactor always leading them the bountiful crops they steal from the peasantry they have statues him fat woman giving out food the starving they view the god death the god justice giving righteous end those gnolls that have served brutal conflicts point view can change everything "
        ],
        [
         "22",
         " cliche but you can wrong with cyric mean was mortal who just nabbed all when got the chance you gotta respect that "
        ],
        [
         "23",
         "zon kuthon and his sister shelyn good deity have really cool story from the pathfinder setting plus off topic pathfinder has the coolest good deity ever cayden cailean was bard that got wasted one night stumbled into the temple the star stone artifact that can turn you into deity and woke the next morning with hangover memory the night before and godly powers "
        ],
        [
         "24",
         " homebrew setting the primary lawful evil deity named for friend lewie essentially has three domains tyranny law applied without mercy vengeance and community the idea being that cruel and harsh god but also recognizes that you catch more flies with honey than with vinegar thus his church often the most benevolent toward the common people day day basis the running gag that lewian churches sponsor more inner city basketball teams than any other major faith you probably want change the name but might make interesting dynamic within your setting "
        ],
        [
         "25",
         "his name shall lump wherever lumps are there warts tree burls breasts humpback whales "
        ],
        [
         "26",
         "for one campaign pretty much just snatched the chaos god nurgle lord plague from the whfb wh40k universe renamed him narghull was nar ghull can remember random apostrophes are always nice though the campaign revolved around his cult trying wake the god from sleep that had lasted 1000 years but sadly stalled very lazy this was back was never meant encountered directly meaning never worked out any stats anything basically works spread plague and other diseases and pretty damn evil think "
        ],
        [
         "27",
         "demogorgon because fuck you and your shit god "
        ],
        [
         "28",
         "you want badasss evil gods you want real gods then choose from this list there plenty evil cthulhu mythos "
        ],
        [
         "29",
         "pelor the burning hate the best evil god "
        ],
        [
         "30",
         "fyi the traditional chtonic deity for magic for the romans least was the goddess hecate "
        ],
        [
         "31",
         " far evil goes big fan shar from the forgotten realms setting the god ultimate despair loss and suffering you know god evil when followers don even bother asking for small boons but instead invoke suffering themselves and others hopes that those events will enough prevent the god from needing get involved personally bringing suffering into the world shar isn one those pansy goddesses evil where you might get nod appreciation for sacrifice with shar you better kill somebody damn near ever day and you get nothing and like with check out the dogma here "
        ],
        [
         "32",
         " like the idea prometheus giving magic the pcs however think that prometheus should more like demi god and that the reason why gives the magic mortals prometheus could jealous the fact that the gods have all the powers and they granted him only half status upon his creation thus his revenge giving humanity order turn the tides power among deities and mortals furthermore perhaps the repercussion prometheus feels from his action being dragged the underworld cerberus making him seem less than deity like and more mortal inhuman order face judgment from egyptian goddess morals virtue and judge the dead "
        ],
        [
         "33",
         "pelor the burning hate also hextor boss god tyranny and conquest always fun think one the books there god lawyers too "
        ],
        [
         "34",
         "wee jas lawful neutral god death magic and necromancy not evil god but perfect representation the inevitable things which mortals fear while other evil gods make plans which may thwarted wee jas merely waits all shall come her the end also playing cleric her fabulous fun "
        ],
        [
         "35",
         "zen master bassui said when the functioning analytical consciousness destroyed feelings are purified this referred the pure land the west you truly want know the meaning being born the pure land you must first know the master who born this land the physical body has never from its inception been the true body but rather temporary formation the five aggregates after the four elements disperse what remains called the self the self originally empty what that born the pure land there master born the pure land what that seeks this land bliss just extinguish the ever seeking mind rid thoughts and attachment form and the body consisting the four elements will have individual self when there individual mind the nature mind and there aspect disorder "
        ],
        [
         "36",
         "pure land other power opposed the usual self power taught most buddhist schools though the pure land here and now and not some other dimension the afterlife "
        ],
        [
         "37",
         "there are many flavours buddhism pure land ideas are not common all them however the important thing realize doesn really matter that the big difference compared the abrahamic religions buddhism not dogmatic the sense bunch things that must taken literally else you are non believer sinner whatever maybe pure land ideas work for you great maybe they don great what works for you works for you what doesn work useless you the historical buddha himself taught dramatically different styles suit his audience parables and metaphors are just that the point where they take you not literally believing them literally and physically true zen koans are good example this very purely distilled most are the form stories but not stories you are believe physically happened you are reading history book that entirely irrelevant what the story does you that the point you are wondering did this really happen does this place really exist you are missing that point also worth noting that most things are about psychological phenomenon not physical phenomenon personally find this makes buddhist cosmology much easier understand than considering competitor physical cosmology they not conflict they just about different cosmos "
        ],
        [
         "38",
         " going try comment this simply can gets metaphysical and some may even say supernatural but hope you can try maintain open mind enough for help with your understanding everything that physical everything that exists the universe and beyond are created the power the mind exercised through consciousness mara created the samsara worlds planes dimensions that may experience joy sadness love heartbreaks etc this was done through his her its focus the mind and streams consciousness began attracted these worlds planes dimensions and begin develop craving for existence and thus begins the cycle rebirth the pure lands buddhism were created the focus the mind amitabha buddha way help individuals attain enlightenment their own pace amitabha buddha understood that the attraction emotions sex love and existence can overwhelming for normal individuals overcome within one lifetime 100 years average for human beings other beings much shorter and yet others much longer created the pure lands the west place refuge and practice for those who call upon his name sincerely this place not metaphorical state mind while these individuals are earth for lack better word real though not necessarily physical the way feel physical things via the electromagnetic repelling force electrons this world certain laws physics are applicable that world land plane dimension whatchamacallit certain laws physics not apply and yet newer laws superphysics would also the rule there that not the law our world now having been carried this land doesn mean that the individuals are guaranteed enlightenment first they still need cultivate themselves while there enlightenment not given dependant every single individual consciousness efforts shed the fetters samsara anger ignorance and jealousy and embrace the noble truths they may choose rejoin the samsaric worlds again and back into the cycle rebirth but least they have the option stay and cultivate themselves the pure land the west that would the main difference between the abrahamic idea heaven against the amitabha buddha pure lands the west hope this helps "
        ],
        [
         "39",
         " think your characterization pure land isn that far off there reason not that popular among westerners odd abandon christianity judaism and take pure land because first impressions buddhism was that was devoid dogma but now seems much leap faith the abrahamic religions least the pure land sect most forms buddhism have some sort supernatural element some orthodox believers might deny that just like some christians might attempt make scientific arguments for the world being 6000 years old the very least you have rebirth and different planes that includes devas zen seems have the least reverence for dogma which why popular the west the other western strategy assume things are meaningful figuratively and not literally but yeah buddhism religion the end the day for most its followers "
        ],
        [
         "40",
         "most religions have dogmatic orthodox well esoteric philosophic side the christian heaven can seen palace the clouds state mind rebirth buddhism can seen fact just superstition left over from other beliefs you interpret and understand you see fit like think about various religions talking about the same thing using different words and yes cherry pick what believe but honestly and very carefully think better than taking everything religion says and rejecting everything doesn say there must hundred different ways talk about enlightenment heaven pure land individuation alchemy rites passage education trials meditation the tricky part that what describes can easily explained words and most importantly has understood which different than just knowing reading about the pure land real place state mind doubt real place but sure some will believe buddhism has some dogma but not nearly much eastern religions "
        ],
        [
         "41",
         "you won find one answer your question but the pure land state mind perspective reality not separate place let quote thich nhat hanh human beings our deepest desire find environment which secure and where there love and understanding all want live such environment you live surroundings where you feel there security understanding and love and where people have the capacity transform their suffering fear and attachment then you live the pure land from finding our true home this isn leap faith all because you have already been the pure land but momentarily every time you bring the buddha mind fully then you are said the pure land imagine because you enter that state some degree this not matter faith but expanding upon what you know joyful experience quite different the abrahamic religions concept heaven which eschatological reality rather than gnostic one will add that there course are some who believe the pure land totally separate paradise however there are positive ways understanding this when the state mind another rebirth will seem like such foreign reality that may well different place entirely "
        ],
        [
         "42",
         " first impressions buddhism was that was devoid dogma isn good thing about buddhism least for outsider that much easier pick and choose what parts you not want use see dogma kind environment habitat for the profound and useful ideas develop all religions have something useful buddhist religions and not just one homogeneous buddhism just seem have something that more relevant and powerful the context our culture "
        ],
        [
         "43",
         "from limited knowledge the pure land not paradise but place contemplation stepping off point where you are given the knowledge leave the cycle suffering and rebirth anything more akin the now defunct catholic idea purgatory than actual heaven "
        ],
        [
         "44",
         " response your question about how amitabha created the pure land this quote from the article pure land buddhism wikipedia the longer sukhāvatīvyūha sūtra the buddha begins describing his attendant ānanda past life the buddha amitābha states that past life amitābha was once king who renounced his kingdom and became bodhisattva monk named dharmākara dharma storehouse under the guidance the buddha lokeśvararāja world sovereign king innumerable buddha lands throughout the ten directions were revealed him after meditating for five eons bodhisattva then made great series vows save all sentient beings and through his great merit created the realm sukhāvatī ultimate bliss this land sukhāvatī would later come known the pure land chinese translation important remember that buddhism has been around for thousands years and that for long time buddhists didn have telescopes big machines scan the brain with his holiness the dalai lama himself has said that the discoveries science and the teachings buddhism contradict then the discoveries science are correct this video tgv1gwvrz one the major teachings the buddha was test out each his teachings oneself order see they were true rather than taking his word faith without proof however course just man who has seen mountain some remote region where one has not traveled may believed until the distance that region crossed might have some sort faith buddhist teachings since the people doing the teachings have often devoted their whole lives the teachings the buddha "
        ],
        [
         "45",
         "exactly the song was jamming when made this "
        ],
        [
         "46",
         " nam indeed "
        ],
        [
         "47",
         " jbdbx28pxga"
        ],
        [
         "48",
         "maybe they ate dosa who knows "
        ],
        [
         "49",
         "according this nbc chicago article walsh holds ladies week 169189026 html here what they have say about joe walsh unless you’ conservative suburban white male over rep joe walsh tea party ill has said something offend you walsh’ rhetoric has been caricature the image republicans party devoted only old white guys "
        ]
       ],
       "shape": {
        "columns": 1,
        "rows": 36793
       }
      },
      "text/plain": [
       "0         family mormon have never tried explain them t...\n",
       "1        buddhism has very much lot compatible with chr...\n",
       "2        seriously don say thing first all they won get...\n",
       "3        what you have learned yours and only yours wha...\n",
       "4        for your own benefit you may want read living ...\n",
       "                               ...                        \n",
       "37244                                                jesus\n",
       "37245    kya bhai pure saal chutiya banaya modi aur jab...\n",
       "37246                downvote karna tha par upvote hogaya \n",
       "37247                                           haha nice \n",
       "37248               facebook itself now working bjp’ cell \n",
       "Name: clean_comment, Length: 36793, dtype: object"
      ]
     },
     "execution_count": 33,
     "metadata": {},
     "output_type": "execute_result"
    }
   ],
   "source": [
    "df['clean_comment'].apply(lambda x: x if isinstance(x, str) else \"\")"
   ]
  },
  {
   "cell_type": "code",
   "execution_count": 35,
   "id": "dd23407e",
   "metadata": {},
   "outputs": [
    {
     "data": {
      "application/vnd.microsoft.datawrangler.viewer.v0+json": {
       "columns": [
        {
         "name": "index",
         "rawType": "int64",
         "type": "integer"
        },
        {
         "name": "clean_comment",
         "rawType": "object",
         "type": "string"
        },
        {
         "name": "category",
         "rawType": "int64",
         "type": "integer"
        },
        {
         "name": "has_jpg",
         "rawType": "int64",
         "type": "integer"
        }
       ],
       "ref": "bb942074-0909-4d05-bf34-6affa8a5a669",
       "rows": [
        [
         "0",
         " family mormon have never tried explain them they still stare puzzled from time time like some kind strange creature nonetheless they have come admire for the patience calmness equanimity acceptance and compassion have developed all the things buddhism teaches ",
         "1",
         "0"
        ],
        [
         "1",
         "buddhism has very much lot compatible with christianity especially considering that sin and suffering are almost the same thing suffering caused wanting things shouldn want going about getting things the wrong way christian this would mean wanting things that don coincide with god will and wanting things that coincide but without the aid jesus buddhism could also seen proof god all mighty will and omnipotence certainly christians are lucky have one such christ there side but what about everyone else well many christians believe god grace salvation and buddhism god way showing grace upon others would also help study the things jesus said and see how buddha has made similar claims such rich man getting into heaven joke basically advocating that should rid ourselves material possessions fact distinctly remembered jesus making someone cry because that someone asked what achieve salvation and jesus replied with live like buddhist very very roughly translated also point out that buddha rarely spoke anything about god theory personally because knew well enough leave that jesus and mohamed who came later just remember conflict difference opinion but education can fun involving and enlightening easier teach something than prove right like intelligent design ",
         "1",
         "0"
        ],
        [
         "2",
         "seriously don say thing first all they won get its too complex explain normal people anyway and they are dogmatic then doesn matter what you say see mechante post and for any reason you decide later life move from buddhism and that doesn suit you identity though you still get keep all the wisdom then your family will treat you like you went through weird hippy phase for while there didncha and you never hear the end pro tip don put one these your wall jpg ",
         "-1",
         "1"
        ],
        [
         "3",
         "what you have learned yours and only yours what you want teach different focus the goal not the wrapping paper buddhism can passed others without word about the buddha ",
         "0",
         "0"
        ],
        [
         "4",
         "for your own benefit you may want read living buddha living christ thich nhat hanh you might find any subsequent discussions with your loved ones easier you are able articulate some the parallels that exist between buddhism and christianity don surprised they react negatively for having lost you treat them with compassion and deserved understanding although they may indeed display signs being hurt your new path properly sharing with them way that may alleviate their fear something they may perceive wrong the very least alien their beliefs may help allowing them the long run accept although not necessarily agree with your decision regardless where they end you have make your own way ",
         "1",
         "0"
        ],
        [
         "5",
         "you should all sit down together and watch the simpsons episode where lisa becomes buddhist simpsons season episode she little faith then discuss ",
         "-1",
         "0"
        ],
        [
         "6",
         " was teens when discovered zen meditation was then undiagnosed bpd being homeschooled and just gotten 56k modem with web connection where came across link zen meditation tried for couple weeks and the change was palpable felt the most profound sense peace ever felt grades immediately started going had more energy started martial arts just huge positive change all around parents asked something was wrong fundie parents when anything changes this was where naiveté kicked foolishly told them been trying meditation and really calmed down thought they happy that found something that helped but never forget what happened next mother affected this mockingly calm breathy voice she said you can pretend calm and happy all you want but without jesus you never content was that moment that any belief had christian faith all vanished completely realized that she had probably never been happy ever have never felt profoundly sorry for someone did for her that moment ",
         "1",
         "0"
        ],
        [
         "7",
         "jesus was zen meets jew ",
         "0",
         "0"
        ],
        [
         "8",
         "there are two varieties christians dogmatic that dwell words and conservative that take heart the spirit the teachings hate oversimplify things but helps this understanding you are discussing with dogmatic religious people who live the letter the law will uphill battle wish you luck you are discussing with moderates exchange idea should come fairly easily comparing contrasting also discussing parallel teachings presented differently wouldn out the ordinary they may give you relevant spiritual advice even though you are not believer their religion ",
         "-1",
         "0"
        ],
        [
         "9",
         "dont worry about trying explain yourself just meditate regularly and try hard you can more aware everything else will follow coming from someone who has been throught his situation welcome pms ",
         "1",
         "0"
        ],
        [
         "10",
         " recently told family that buddhist live the bible belt this whole ordeal involved leaving the baptist church and everything been pretty rough but those who really care about have been open and accepting they seen the good has created life and relationships with others fact there are handful christians who have lovely conversations with and that truly respect someone else suggested living buddha living christ great one read about the important dialogue between buddhists and christians also welcome you message ",
         "1",
         "0"
        ],
        [
         "11",
         " unto others you would have them unto you would good start ",
         "1",
         "0"
        ],
        [
         "12",
         "first understand that you are not anyway control how they will react always find that any subject better understood first learning the vocabulary explain what the word buddha means most people believe buddhists praise worship and follow guy named buddha christians due jesus let them know that one could both buddhist and christian with conflict the teachings and the messages jesus are indeed buddhist philosophy jesus became enlightened buddha and realized that had become annointed being christ then continue with your practice and let them work out their own issues that advice all the best ",
         "1",
         "0"
        ],
        [
         "13",
         " recently heard similar question where person asked they should introduce meditation his loved ones who had challenges coping with problems life the answer from the lama was quite interesting instead giving people advice one should focus his practice that way others will see the change and maybe even ask about personally think better keep yourself even though you must really excited about you can also keep dharma books around the house and sure people will pick them for quick browse when you are not looking learn bit about other people traditions well browsing through books they owned ",
         "1",
         "0"
        ],
        [
         "15",
         "does evil include the lady pai chunked ",
         "-1",
         "0"
        ],
        [
         "16",
         "our campaign has two suns one pelor the other shamedan pelor the god all know and find bit stifling really shamedan the sun desert the burning sun who will kill you without mercy even second though shamedan brings drought and brings the fire that destroys all you own generally not very nice has race fey called desert hags who worship him and have radiant and fire resistance but they haven played nearly much part the campaign they should have ",
         "1",
         "0"
        ],
        [
         "17",
         "technically you could argue that sobek evil would represent power and also crocodiles whereas also represents fertile land also the guy could shapeshift into crocodile badass ",
         "-1",
         "0"
        ],
        [
         "18",
         " zarus ",
         "0",
         "0"
        ],
        [
         "19",
         "blood and souls for lord arioch ",
         "0",
         "0"
        ],
        [
         "20",
         " always liked vecna the one time was able use him story had blast playing the fact that was far not the most powerful deity but was one the most dangerous due his portfolio but favorite pale night who technically not deity but close enough guess most the abyssal lords and the rulers the nine hells are fairly straightforward and have ample backstory but her lack thereof just intriguing ",
         "1",
         "0"
        ],
        [
         "21",
         "though don have any good suggestions for additional deities the moment you should probably have some overlap the cavern dwelling gnolls might consider pelor the god evil blinding them with his wicked light loki has sufficiently fooled them over the years into thinking their benefactor always leading them the bountiful crops they steal from the peasantry they have statues him fat woman giving out food the starving they view the god death the god justice giving righteous end those gnolls that have served brutal conflicts point view can change everything ",
         "-1",
         "0"
        ],
        [
         "22",
         " cliche but you can wrong with cyric mean was mortal who just nabbed all when got the chance you gotta respect that ",
         "-1",
         "0"
        ],
        [
         "23",
         "zon kuthon and his sister shelyn good deity have really cool story from the pathfinder setting plus off topic pathfinder has the coolest good deity ever cayden cailean was bard that got wasted one night stumbled into the temple the star stone artifact that can turn you into deity and woke the next morning with hangover memory the night before and godly powers ",
         "1",
         "0"
        ],
        [
         "24",
         " homebrew setting the primary lawful evil deity named for friend lewie essentially has three domains tyranny law applied without mercy vengeance and community the idea being that cruel and harsh god but also recognizes that you catch more flies with honey than with vinegar thus his church often the most benevolent toward the common people day day basis the running gag that lewian churches sponsor more inner city basketball teams than any other major faith you probably want change the name but might make interesting dynamic within your setting ",
         "-1",
         "0"
        ],
        [
         "25",
         "his name shall lump wherever lumps are there warts tree burls breasts humpback whales ",
         "0",
         "0"
        ],
        [
         "26",
         "for one campaign pretty much just snatched the chaos god nurgle lord plague from the whfb wh40k universe renamed him narghull was nar ghull can remember random apostrophes are always nice though the campaign revolved around his cult trying wake the god from sleep that had lasted 1000 years but sadly stalled very lazy this was back was never meant encountered directly meaning never worked out any stats anything basically works spread plague and other diseases and pretty damn evil think ",
         "-1",
         "0"
        ],
        [
         "27",
         "demogorgon because fuck you and your shit god ",
         "-1",
         "0"
        ],
        [
         "28",
         "you want badasss evil gods you want real gods then choose from this list there plenty evil cthulhu mythos ",
         "-1",
         "0"
        ],
        [
         "29",
         "pelor the burning hate the best evil god ",
         "-1",
         "0"
        ],
        [
         "30",
         "fyi the traditional chtonic deity for magic for the romans least was the goddess hecate ",
         "1",
         "0"
        ],
        [
         "31",
         " far evil goes big fan shar from the forgotten realms setting the god ultimate despair loss and suffering you know god evil when followers don even bother asking for small boons but instead invoke suffering themselves and others hopes that those events will enough prevent the god from needing get involved personally bringing suffering into the world shar isn one those pansy goddesses evil where you might get nod appreciation for sacrifice with shar you better kill somebody damn near ever day and you get nothing and like with check out the dogma here ",
         "-1",
         "0"
        ],
        [
         "32",
         " like the idea prometheus giving magic the pcs however think that prometheus should more like demi god and that the reason why gives the magic mortals prometheus could jealous the fact that the gods have all the powers and they granted him only half status upon his creation thus his revenge giving humanity order turn the tides power among deities and mortals furthermore perhaps the repercussion prometheus feels from his action being dragged the underworld cerberus making him seem less than deity like and more mortal inhuman order face judgment from egyptian goddess morals virtue and judge the dead ",
         "1",
         "0"
        ],
        [
         "33",
         "pelor the burning hate also hextor boss god tyranny and conquest always fun think one the books there god lawyers too ",
         "-1",
         "0"
        ],
        [
         "34",
         "wee jas lawful neutral god death magic and necromancy not evil god but perfect representation the inevitable things which mortals fear while other evil gods make plans which may thwarted wee jas merely waits all shall come her the end also playing cleric her fabulous fun ",
         "1",
         "0"
        ],
        [
         "35",
         "zen master bassui said when the functioning analytical consciousness destroyed feelings are purified this referred the pure land the west you truly want know the meaning being born the pure land you must first know the master who born this land the physical body has never from its inception been the true body but rather temporary formation the five aggregates after the four elements disperse what remains called the self the self originally empty what that born the pure land there master born the pure land what that seeks this land bliss just extinguish the ever seeking mind rid thoughts and attachment form and the body consisting the four elements will have individual self when there individual mind the nature mind and there aspect disorder ",
         "1",
         "0"
        ],
        [
         "36",
         "pure land other power opposed the usual self power taught most buddhist schools though the pure land here and now and not some other dimension the afterlife ",
         "1",
         "0"
        ],
        [
         "37",
         "there are many flavours buddhism pure land ideas are not common all them however the important thing realize doesn really matter that the big difference compared the abrahamic religions buddhism not dogmatic the sense bunch things that must taken literally else you are non believer sinner whatever maybe pure land ideas work for you great maybe they don great what works for you works for you what doesn work useless you the historical buddha himself taught dramatically different styles suit his audience parables and metaphors are just that the point where they take you not literally believing them literally and physically true zen koans are good example this very purely distilled most are the form stories but not stories you are believe physically happened you are reading history book that entirely irrelevant what the story does you that the point you are wondering did this really happen does this place really exist you are missing that point also worth noting that most things are about psychological phenomenon not physical phenomenon personally find this makes buddhist cosmology much easier understand than considering competitor physical cosmology they not conflict they just about different cosmos ",
         "1",
         "0"
        ],
        [
         "38",
         " going try comment this simply can gets metaphysical and some may even say supernatural but hope you can try maintain open mind enough for help with your understanding everything that physical everything that exists the universe and beyond are created the power the mind exercised through consciousness mara created the samsara worlds planes dimensions that may experience joy sadness love heartbreaks etc this was done through his her its focus the mind and streams consciousness began attracted these worlds planes dimensions and begin develop craving for existence and thus begins the cycle rebirth the pure lands buddhism were created the focus the mind amitabha buddha way help individuals attain enlightenment their own pace amitabha buddha understood that the attraction emotions sex love and existence can overwhelming for normal individuals overcome within one lifetime 100 years average for human beings other beings much shorter and yet others much longer created the pure lands the west place refuge and practice for those who call upon his name sincerely this place not metaphorical state mind while these individuals are earth for lack better word real though not necessarily physical the way feel physical things via the electromagnetic repelling force electrons this world certain laws physics are applicable that world land plane dimension whatchamacallit certain laws physics not apply and yet newer laws superphysics would also the rule there that not the law our world now having been carried this land doesn mean that the individuals are guaranteed enlightenment first they still need cultivate themselves while there enlightenment not given dependant every single individual consciousness efforts shed the fetters samsara anger ignorance and jealousy and embrace the noble truths they may choose rejoin the samsaric worlds again and back into the cycle rebirth but least they have the option stay and cultivate themselves the pure land the west that would the main difference between the abrahamic idea heaven against the amitabha buddha pure lands the west hope this helps ",
         "1",
         "0"
        ],
        [
         "39",
         " think your characterization pure land isn that far off there reason not that popular among westerners odd abandon christianity judaism and take pure land because first impressions buddhism was that was devoid dogma but now seems much leap faith the abrahamic religions least the pure land sect most forms buddhism have some sort supernatural element some orthodox believers might deny that just like some christians might attempt make scientific arguments for the world being 6000 years old the very least you have rebirth and different planes that includes devas zen seems have the least reverence for dogma which why popular the west the other western strategy assume things are meaningful figuratively and not literally but yeah buddhism religion the end the day for most its followers ",
         "1",
         "0"
        ],
        [
         "40",
         "most religions have dogmatic orthodox well esoteric philosophic side the christian heaven can seen palace the clouds state mind rebirth buddhism can seen fact just superstition left over from other beliefs you interpret and understand you see fit like think about various religions talking about the same thing using different words and yes cherry pick what believe but honestly and very carefully think better than taking everything religion says and rejecting everything doesn say there must hundred different ways talk about enlightenment heaven pure land individuation alchemy rites passage education trials meditation the tricky part that what describes can easily explained words and most importantly has understood which different than just knowing reading about the pure land real place state mind doubt real place but sure some will believe buddhism has some dogma but not nearly much eastern religions ",
         "1",
         "0"
        ],
        [
         "41",
         "you won find one answer your question but the pure land state mind perspective reality not separate place let quote thich nhat hanh human beings our deepest desire find environment which secure and where there love and understanding all want live such environment you live surroundings where you feel there security understanding and love and where people have the capacity transform their suffering fear and attachment then you live the pure land from finding our true home this isn leap faith all because you have already been the pure land but momentarily every time you bring the buddha mind fully then you are said the pure land imagine because you enter that state some degree this not matter faith but expanding upon what you know joyful experience quite different the abrahamic religions concept heaven which eschatological reality rather than gnostic one will add that there course are some who believe the pure land totally separate paradise however there are positive ways understanding this when the state mind another rebirth will seem like such foreign reality that may well different place entirely ",
         "1",
         "0"
        ],
        [
         "42",
         " first impressions buddhism was that was devoid dogma isn good thing about buddhism least for outsider that much easier pick and choose what parts you not want use see dogma kind environment habitat for the profound and useful ideas develop all religions have something useful buddhist religions and not just one homogeneous buddhism just seem have something that more relevant and powerful the context our culture ",
         "1",
         "0"
        ],
        [
         "43",
         "from limited knowledge the pure land not paradise but place contemplation stepping off point where you are given the knowledge leave the cycle suffering and rebirth anything more akin the now defunct catholic idea purgatory than actual heaven ",
         "1",
         "0"
        ],
        [
         "44",
         " response your question about how amitabha created the pure land this quote from the article pure land buddhism wikipedia the longer sukhāvatīvyūha sūtra the buddha begins describing his attendant ānanda past life the buddha amitābha states that past life amitābha was once king who renounced his kingdom and became bodhisattva monk named dharmākara dharma storehouse under the guidance the buddha lokeśvararāja world sovereign king innumerable buddha lands throughout the ten directions were revealed him after meditating for five eons bodhisattva then made great series vows save all sentient beings and through his great merit created the realm sukhāvatī ultimate bliss this land sukhāvatī would later come known the pure land chinese translation important remember that buddhism has been around for thousands years and that for long time buddhists didn have telescopes big machines scan the brain with his holiness the dalai lama himself has said that the discoveries science and the teachings buddhism contradict then the discoveries science are correct this video tgv1gwvrz one the major teachings the buddha was test out each his teachings oneself order see they were true rather than taking his word faith without proof however course just man who has seen mountain some remote region where one has not traveled may believed until the distance that region crossed might have some sort faith buddhist teachings since the people doing the teachings have often devoted their whole lives the teachings the buddha ",
         "1",
         "0"
        ],
        [
         "45",
         "exactly the song was jamming when made this ",
         "1",
         "0"
        ],
        [
         "46",
         " nam indeed ",
         "0",
         "0"
        ],
        [
         "47",
         " jbdbx28pxga",
         "0",
         "0"
        ],
        [
         "48",
         "maybe they ate dosa who knows ",
         "0",
         "0"
        ],
        [
         "49",
         "according this nbc chicago article walsh holds ladies week 169189026 html here what they have say about joe walsh unless you’ conservative suburban white male over rep joe walsh tea party ill has said something offend you walsh’ rhetoric has been caricature the image republicans party devoted only old white guys ",
         "-1",
         "0"
        ],
        [
         "50",
         "are you guys seriously pissed about idli sambar remark thought were past all this second thoughts one gives shit about the tea party not even the their craziness got too much even for the hardcore republicans ",
         "-1",
         "0"
        ]
       ],
       "shape": {
        "columns": 3,
        "rows": 32266
       }
      },
      "text/html": [
       "<div>\n",
       "<style scoped>\n",
       "    .dataframe tbody tr th:only-of-type {\n",
       "        vertical-align: middle;\n",
       "    }\n",
       "\n",
       "    .dataframe tbody tr th {\n",
       "        vertical-align: top;\n",
       "    }\n",
       "\n",
       "    .dataframe thead th {\n",
       "        text-align: right;\n",
       "    }\n",
       "</style>\n",
       "<table border=\"1\" class=\"dataframe\">\n",
       "  <thead>\n",
       "    <tr style=\"text-align: right;\">\n",
       "      <th></th>\n",
       "      <th>clean_comment</th>\n",
       "      <th>category</th>\n",
       "      <th>has_jpg</th>\n",
       "    </tr>\n",
       "  </thead>\n",
       "  <tbody>\n",
       "    <tr>\n",
       "      <th>0</th>\n",
       "      <td>family mormon have never tried explain them t...</td>\n",
       "      <td>1</td>\n",
       "      <td>0</td>\n",
       "    </tr>\n",
       "    <tr>\n",
       "      <th>1</th>\n",
       "      <td>buddhism has very much lot compatible with chr...</td>\n",
       "      <td>1</td>\n",
       "      <td>0</td>\n",
       "    </tr>\n",
       "    <tr>\n",
       "      <th>2</th>\n",
       "      <td>seriously don say thing first all they won get...</td>\n",
       "      <td>-1</td>\n",
       "      <td>1</td>\n",
       "    </tr>\n",
       "    <tr>\n",
       "      <th>3</th>\n",
       "      <td>what you have learned yours and only yours wha...</td>\n",
       "      <td>0</td>\n",
       "      <td>0</td>\n",
       "    </tr>\n",
       "    <tr>\n",
       "      <th>4</th>\n",
       "      <td>for your own benefit you may want read living ...</td>\n",
       "      <td>1</td>\n",
       "      <td>0</td>\n",
       "    </tr>\n",
       "    <tr>\n",
       "      <th>...</th>\n",
       "      <td>...</td>\n",
       "      <td>...</td>\n",
       "      <td>...</td>\n",
       "    </tr>\n",
       "    <tr>\n",
       "      <th>37241</th>\n",
       "      <td>let the janta decide not ulema clerics</td>\n",
       "      <td>0</td>\n",
       "      <td>0</td>\n",
       "    </tr>\n",
       "    <tr>\n",
       "      <th>37242</th>\n",
       "      <td>hona hai same with vaccination education insu...</td>\n",
       "      <td>0</td>\n",
       "      <td>0</td>\n",
       "    </tr>\n",
       "    <tr>\n",
       "      <th>37246</th>\n",
       "      <td>downvote karna tha par upvote hogaya</td>\n",
       "      <td>0</td>\n",
       "      <td>0</td>\n",
       "    </tr>\n",
       "    <tr>\n",
       "      <th>37247</th>\n",
       "      <td>haha nice</td>\n",
       "      <td>1</td>\n",
       "      <td>0</td>\n",
       "    </tr>\n",
       "    <tr>\n",
       "      <th>37248</th>\n",
       "      <td>facebook itself now working bjp’ cell</td>\n",
       "      <td>0</td>\n",
       "      <td>0</td>\n",
       "    </tr>\n",
       "  </tbody>\n",
       "</table>\n",
       "<p>32266 rows × 3 columns</p>\n",
       "</div>"
      ],
      "text/plain": [
       "                                           clean_comment  category  has_jpg\n",
       "0       family mormon have never tried explain them t...         1        0\n",
       "1      buddhism has very much lot compatible with chr...         1        0\n",
       "2      seriously don say thing first all they won get...        -1        1\n",
       "3      what you have learned yours and only yours wha...         0        0\n",
       "4      for your own benefit you may want read living ...         1        0\n",
       "...                                                  ...       ...      ...\n",
       "37241            let the janta decide not ulema clerics          0        0\n",
       "37242   hona hai same with vaccination education insu...         0        0\n",
       "37246              downvote karna tha par upvote hogaya          0        0\n",
       "37247                                         haha nice          1        0\n",
       "37248             facebook itself now working bjp’ cell          0        0\n",
       "\n",
       "[32266 rows x 3 columns]"
      ]
     },
     "execution_count": 35,
     "metadata": {},
     "output_type": "execute_result"
    }
   ],
   "source": [
    "df[df['clean_comment'].apply(lambda x:x.startswith(' ') or x.endswith(' '))]"
   ]
  },
  {
   "cell_type": "code",
   "execution_count": 38,
   "id": "a1612d05",
   "metadata": {},
   "outputs": [],
   "source": [
    "df['clean_comment']=df['clean_comment'].str.strip()"
   ]
  },
  {
   "cell_type": "code",
   "execution_count": null,
   "id": "88715f7f",
   "metadata": {},
   "outputs": [],
   "source": []
  }
 ],
 "metadata": {
  "kernelspec": {
   "display_name": "yt_project",
   "language": "python",
   "name": "python3"
  },
  "language_info": {
   "codemirror_mode": {
    "name": "ipython",
    "version": 3
   },
   "file_extension": ".py",
   "mimetype": "text/x-python",
   "name": "python",
   "nbconvert_exporter": "python",
   "pygments_lexer": "ipython3",
   "version": "3.10.19"
  }
 },
 "nbformat": 4,
 "nbformat_minor": 5
}
